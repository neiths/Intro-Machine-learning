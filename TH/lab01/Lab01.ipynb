{
  "cells": [
    {
      "cell_type": "markdown",
      "id": "ae78e63c",
      "metadata": {
        "id": "ae78e63c"
      },
      "source": [
        "Insurance dataset is a data set about predicting the amount of insurance to pay for a patient, which includes the following features:\n",
        "- age: Age of the patient, is a positive integer value\n",
        "- sex: Patient's gender where 0 is male, 1 is female\n",
        "- bmi: The patient's BMI, is the actual value\n",
        "- children: Number of children of the patient, is a positive integer value\n",
        "- smoker: Indicates whether the patient smokes, where 1 is yes and 0 is no\n",
        "- region: Indicate the region the patient is in, 0 is southwest 1 is southeast 2 is northwest and 3 is northeast"
      ]
    },
    {
      "cell_type": "code",
      "execution_count": null,
      "id": "mYV5QYEaZD5N",
      "metadata": {
        "colab": {
          "base_uri": "https://localhost:8080/"
        },
        "id": "mYV5QYEaZD5N",
        "outputId": "eda12f52-762c-442f-d5cb-8a7a8ed6cc0a"
      },
      "outputs": [
        {
          "name": "stdout",
          "output_type": "stream",
          "text": [
            "Mounted at /content/drive\n"
          ]
        }
      ],
      "source": [
        "# mount data from google drive to colab\n",
        "from google.colab import drive\n",
        "drive.mount('/content/drive')\n",
        "\n"
      ]
    },
    {
      "cell_type": "code",
      "execution_count": 1,
      "id": "edd43464",
      "metadata": {},
      "outputs": [],
      "source": [
        "#import library\n",
        "import pandas as pd # pandas \n",
        "import numpy as np # numpy"
      ]
    },
    {
      "cell_type": "markdown",
      "id": "DWey3cHTb43g",
      "metadata": {
        "id": "DWey3cHTb43g"
      },
      "source": [
        "# Prepare Data"
      ]
    },
    {
      "cell_type": "code",
      "execution_count": 4,
      "id": "b6967e88",
      "metadata": {
        "colab": {
          "base_uri": "https://localhost:8080/",
          "height": 206
        },
        "id": "b6967e88",
        "outputId": "7433792b-f519-4028-da54-57d7520f2e6b"
      },
      "outputs": [
        {
          "data": {
            "text/html": [
              "<div>\n",
              "<style scoped>\n",
              "    .dataframe tbody tr th:only-of-type {\n",
              "        vertical-align: middle;\n",
              "    }\n",
              "\n",
              "    .dataframe tbody tr th {\n",
              "        vertical-align: top;\n",
              "    }\n",
              "\n",
              "    .dataframe thead th {\n",
              "        text-align: right;\n",
              "    }\n",
              "</style>\n",
              "<table border=\"1\" class=\"dataframe\">\n",
              "  <thead>\n",
              "    <tr style=\"text-align: right;\">\n",
              "      <th></th>\n",
              "      <th>age</th>\n",
              "      <th>sex</th>\n",
              "      <th>bmi</th>\n",
              "      <th>children</th>\n",
              "      <th>smoker</th>\n",
              "      <th>region</th>\n",
              "      <th>charges</th>\n",
              "    </tr>\n",
              "  </thead>\n",
              "  <tbody>\n",
              "    <tr>\n",
              "      <th>0</th>\n",
              "      <td>19</td>\n",
              "      <td>female</td>\n",
              "      <td>27.900</td>\n",
              "      <td>0</td>\n",
              "      <td>yes</td>\n",
              "      <td>southwest</td>\n",
              "      <td>16884.92400</td>\n",
              "    </tr>\n",
              "    <tr>\n",
              "      <th>1</th>\n",
              "      <td>18</td>\n",
              "      <td>male</td>\n",
              "      <td>33.770</td>\n",
              "      <td>1</td>\n",
              "      <td>no</td>\n",
              "      <td>southeast</td>\n",
              "      <td>1725.55230</td>\n",
              "    </tr>\n",
              "    <tr>\n",
              "      <th>2</th>\n",
              "      <td>28</td>\n",
              "      <td>male</td>\n",
              "      <td>33.000</td>\n",
              "      <td>3</td>\n",
              "      <td>no</td>\n",
              "      <td>southeast</td>\n",
              "      <td>4449.46200</td>\n",
              "    </tr>\n",
              "    <tr>\n",
              "      <th>3</th>\n",
              "      <td>33</td>\n",
              "      <td>male</td>\n",
              "      <td>22.705</td>\n",
              "      <td>0</td>\n",
              "      <td>no</td>\n",
              "      <td>northwest</td>\n",
              "      <td>21984.47061</td>\n",
              "    </tr>\n",
              "    <tr>\n",
              "      <th>4</th>\n",
              "      <td>32</td>\n",
              "      <td>male</td>\n",
              "      <td>28.880</td>\n",
              "      <td>0</td>\n",
              "      <td>no</td>\n",
              "      <td>northwest</td>\n",
              "      <td>3866.85520</td>\n",
              "    </tr>\n",
              "  </tbody>\n",
              "</table>\n",
              "</div>"
            ],
            "text/plain": [
              "   age     sex     bmi  children smoker     region      charges\n",
              "0   19  female  27.900         0    yes  southwest  16884.92400\n",
              "1   18    male  33.770         1     no  southeast   1725.55230\n",
              "2   28    male  33.000         3     no  southeast   4449.46200\n",
              "3   33    male  22.705         0     no  northwest  21984.47061\n",
              "4   32    male  28.880         0     no  northwest   3866.85520"
            ]
          },
          "execution_count": 4,
          "metadata": {},
          "output_type": "execute_result"
        }
      ],
      "source": [
        "# read data using Pandas DataFrame\n",
        "#data = pd.read_csv(\"/content/drive/MyDrive/Week 01/insurance.csv\")\n",
        "data = pd.read_csv('insurance.csv')\n",
        "data.head()"
      ]
    },
    {
      "cell_type": "code",
      "execution_count": 5,
      "id": "7YS71fR16_Yy",
      "metadata": {
        "colab": {
          "base_uri": "https://localhost:8080/",
          "height": 300
        },
        "id": "7YS71fR16_Yy",
        "outputId": "0b4b2602-e5cc-4bdd-b035-f8254a18b42e"
      },
      "outputs": [
        {
          "data": {
            "text/html": [
              "<div>\n",
              "<style scoped>\n",
              "    .dataframe tbody tr th:only-of-type {\n",
              "        vertical-align: middle;\n",
              "    }\n",
              "\n",
              "    .dataframe tbody tr th {\n",
              "        vertical-align: top;\n",
              "    }\n",
              "\n",
              "    .dataframe thead th {\n",
              "        text-align: right;\n",
              "    }\n",
              "</style>\n",
              "<table border=\"1\" class=\"dataframe\">\n",
              "  <thead>\n",
              "    <tr style=\"text-align: right;\">\n",
              "      <th></th>\n",
              "      <th>age</th>\n",
              "      <th>bmi</th>\n",
              "      <th>children</th>\n",
              "      <th>charges</th>\n",
              "    </tr>\n",
              "  </thead>\n",
              "  <tbody>\n",
              "    <tr>\n",
              "      <th>count</th>\n",
              "      <td>1338.000000</td>\n",
              "      <td>1338.000000</td>\n",
              "      <td>1338.000000</td>\n",
              "      <td>1338.000000</td>\n",
              "    </tr>\n",
              "    <tr>\n",
              "      <th>mean</th>\n",
              "      <td>39.207025</td>\n",
              "      <td>30.663397</td>\n",
              "      <td>1.094918</td>\n",
              "      <td>13270.422265</td>\n",
              "    </tr>\n",
              "    <tr>\n",
              "      <th>std</th>\n",
              "      <td>14.049960</td>\n",
              "      <td>6.098187</td>\n",
              "      <td>1.205493</td>\n",
              "      <td>12110.011237</td>\n",
              "    </tr>\n",
              "    <tr>\n",
              "      <th>min</th>\n",
              "      <td>18.000000</td>\n",
              "      <td>15.960000</td>\n",
              "      <td>0.000000</td>\n",
              "      <td>1121.873900</td>\n",
              "    </tr>\n",
              "    <tr>\n",
              "      <th>25%</th>\n",
              "      <td>27.000000</td>\n",
              "      <td>26.296250</td>\n",
              "      <td>0.000000</td>\n",
              "      <td>4740.287150</td>\n",
              "    </tr>\n",
              "    <tr>\n",
              "      <th>50%</th>\n",
              "      <td>39.000000</td>\n",
              "      <td>30.400000</td>\n",
              "      <td>1.000000</td>\n",
              "      <td>9382.033000</td>\n",
              "    </tr>\n",
              "    <tr>\n",
              "      <th>75%</th>\n",
              "      <td>51.000000</td>\n",
              "      <td>34.693750</td>\n",
              "      <td>2.000000</td>\n",
              "      <td>16639.912515</td>\n",
              "    </tr>\n",
              "    <tr>\n",
              "      <th>max</th>\n",
              "      <td>64.000000</td>\n",
              "      <td>53.130000</td>\n",
              "      <td>5.000000</td>\n",
              "      <td>63770.428010</td>\n",
              "    </tr>\n",
              "  </tbody>\n",
              "</table>\n",
              "</div>"
            ],
            "text/plain": [
              "               age          bmi     children       charges\n",
              "count  1338.000000  1338.000000  1338.000000   1338.000000\n",
              "mean     39.207025    30.663397     1.094918  13270.422265\n",
              "std      14.049960     6.098187     1.205493  12110.011237\n",
              "min      18.000000    15.960000     0.000000   1121.873900\n",
              "25%      27.000000    26.296250     0.000000   4740.287150\n",
              "50%      39.000000    30.400000     1.000000   9382.033000\n",
              "75%      51.000000    34.693750     2.000000  16639.912515\n",
              "max      64.000000    53.130000     5.000000  63770.428010"
            ]
          },
          "execution_count": 5,
          "metadata": {},
          "output_type": "execute_result"
        }
      ],
      "source": [
        "data.describe()"
      ]
    },
    {
      "cell_type": "code",
      "execution_count": 6,
      "id": "gQy5MjMft-qU",
      "metadata": {
        "colab": {
          "base_uri": "https://localhost:8080/",
          "height": 297
        },
        "id": "gQy5MjMft-qU",
        "outputId": "86de232a-cd8f-4064-ed82-dfb60f01bb03"
      },
      "outputs": [
        {
          "data": {
            "text/plain": [
              "<AxesSubplot:xlabel='charges', ylabel='Count'>"
            ]
          },
          "execution_count": 6,
          "metadata": {},
          "output_type": "execute_result"
        },
        {
          "data": {
            "image/png": "[encoded data removed]",
            "text/plain": [
              "<Figure size 432x288 with 1 Axes>"
            ]
          },
          "metadata": {
            "needs_background": "light"
          },
          "output_type": "display_data"
        }
      ],
      "source": [
        "import seaborn as sns\n",
        "sns.histplot(x=\"charges\", data=data, bins=100)"
      ]
    },
    {
      "cell_type": "code",
      "execution_count": 7,
      "id": "H1A1B_3_N8kM",
      "metadata": {
        "colab": {
          "base_uri": "https://localhost:8080/"
        },
        "id": "H1A1B_3_N8kM",
        "outputId": "7abf557d-f53a-4bbe-b7db-0d7de721fba3"
      },
      "outputs": [
        {
          "data": {
            "text/plain": [
              "age         0\n",
              "sex         0\n",
              "bmi         0\n",
              "children    0\n",
              "smoker      0\n",
              "region      0\n",
              "charges     0\n",
              "dtype: int64"
            ]
          },
          "execution_count": 7,
          "metadata": {},
          "output_type": "execute_result"
        }
      ],
      "source": [
        "# Null checking\n",
        "data.isnull().sum()"
      ]
    },
    {
      "cell_type": "code",
      "execution_count": 8,
      "id": "6f647dba",
      "metadata": {
        "colab": {
          "base_uri": "https://localhost:8080/"
        },
        "id": "6f647dba",
        "outputId": "62bd1820-2c38-4e78-9dc2-e0dd80c81301"
      },
      "outputs": [
        {
          "name": "stdout",
          "output_type": "stream",
          "text": [
            "Sample size: 1338\n",
            "Not null sample size: 1338\n"
          ]
        }
      ],
      "source": [
        "print(\"Sample size:\", len(data))\n",
        "data = data.dropna()\n",
        "print(\"Not null sample size:\", len(data))"
      ]
    },
    {
      "cell_type": "code",
      "execution_count": 9,
      "id": "bb07fb8b",
      "metadata": {
        "colab": {
          "base_uri": "https://localhost:8080/",
          "height": 424
        },
        "id": "bb07fb8b",
        "outputId": "f3427f63-3984-4b62-9575-5c2fd417a3ba"
      },
      "outputs": [
        {
          "data": {
            "text/html": [
              "<div>\n",
              "<style scoped>\n",
              "    .dataframe tbody tr th:only-of-type {\n",
              "        vertical-align: middle;\n",
              "    }\n",
              "\n",
              "    .dataframe tbody tr th {\n",
              "        vertical-align: top;\n",
              "    }\n",
              "\n",
              "    .dataframe thead th {\n",
              "        text-align: right;\n",
              "    }\n",
              "</style>\n",
              "<table border=\"1\" class=\"dataframe\">\n",
              "  <thead>\n",
              "    <tr style=\"text-align: right;\">\n",
              "      <th></th>\n",
              "      <th>age</th>\n",
              "      <th>sex</th>\n",
              "      <th>bmi</th>\n",
              "      <th>children</th>\n",
              "      <th>smoker</th>\n",
              "      <th>region</th>\n",
              "      <th>charges</th>\n",
              "    </tr>\n",
              "  </thead>\n",
              "  <tbody>\n",
              "    <tr>\n",
              "      <th>0</th>\n",
              "      <td>19</td>\n",
              "      <td>1</td>\n",
              "      <td>27.900</td>\n",
              "      <td>0</td>\n",
              "      <td>1</td>\n",
              "      <td>0</td>\n",
              "      <td>16884.92400</td>\n",
              "    </tr>\n",
              "    <tr>\n",
              "      <th>1</th>\n",
              "      <td>18</td>\n",
              "      <td>0</td>\n",
              "      <td>33.770</td>\n",
              "      <td>1</td>\n",
              "      <td>0</td>\n",
              "      <td>1</td>\n",
              "      <td>1725.55230</td>\n",
              "    </tr>\n",
              "    <tr>\n",
              "      <th>2</th>\n",
              "      <td>28</td>\n",
              "      <td>0</td>\n",
              "      <td>33.000</td>\n",
              "      <td>3</td>\n",
              "      <td>0</td>\n",
              "      <td>1</td>\n",
              "      <td>4449.46200</td>\n",
              "    </tr>\n",
              "    <tr>\n",
              "      <th>3</th>\n",
              "      <td>33</td>\n",
              "      <td>0</td>\n",
              "      <td>22.705</td>\n",
              "      <td>0</td>\n",
              "      <td>0</td>\n",
              "      <td>2</td>\n",
              "      <td>21984.47061</td>\n",
              "    </tr>\n",
              "    <tr>\n",
              "      <th>4</th>\n",
              "      <td>32</td>\n",
              "      <td>0</td>\n",
              "      <td>28.880</td>\n",
              "      <td>0</td>\n",
              "      <td>0</td>\n",
              "      <td>2</td>\n",
              "      <td>3866.85520</td>\n",
              "    </tr>\n",
              "    <tr>\n",
              "      <th>...</th>\n",
              "      <td>...</td>\n",
              "      <td>...</td>\n",
              "      <td>...</td>\n",
              "      <td>...</td>\n",
              "      <td>...</td>\n",
              "      <td>...</td>\n",
              "      <td>...</td>\n",
              "    </tr>\n",
              "    <tr>\n",
              "      <th>1333</th>\n",
              "      <td>50</td>\n",
              "      <td>0</td>\n",
              "      <td>30.970</td>\n",
              "      <td>3</td>\n",
              "      <td>0</td>\n",
              "      <td>2</td>\n",
              "      <td>10600.54830</td>\n",
              "    </tr>\n",
              "    <tr>\n",
              "      <th>1334</th>\n",
              "      <td>18</td>\n",
              "      <td>1</td>\n",
              "      <td>31.920</td>\n",
              "      <td>0</td>\n",
              "      <td>0</td>\n",
              "      <td>3</td>\n",
              "      <td>2205.98080</td>\n",
              "    </tr>\n",
              "    <tr>\n",
              "      <th>1335</th>\n",
              "      <td>18</td>\n",
              "      <td>1</td>\n",
              "      <td>36.850</td>\n",
              "      <td>0</td>\n",
              "      <td>0</td>\n",
              "      <td>1</td>\n",
              "      <td>1629.83350</td>\n",
              "    </tr>\n",
              "    <tr>\n",
              "      <th>1336</th>\n",
              "      <td>21</td>\n",
              "      <td>1</td>\n",
              "      <td>25.800</td>\n",
              "      <td>0</td>\n",
              "      <td>0</td>\n",
              "      <td>0</td>\n",
              "      <td>2007.94500</td>\n",
              "    </tr>\n",
              "    <tr>\n",
              "      <th>1337</th>\n",
              "      <td>61</td>\n",
              "      <td>1</td>\n",
              "      <td>29.070</td>\n",
              "      <td>0</td>\n",
              "      <td>1</td>\n",
              "      <td>2</td>\n",
              "      <td>29141.36030</td>\n",
              "    </tr>\n",
              "  </tbody>\n",
              "</table>\n",
              "<p>1338 rows × 7 columns</p>\n",
              "</div>"
            ],
            "text/plain": [
              "      age  sex     bmi  children  smoker  region      charges\n",
              "0      19    1  27.900         0       1       0  16884.92400\n",
              "1      18    0  33.770         1       0       1   1725.55230\n",
              "2      28    0  33.000         3       0       1   4449.46200\n",
              "3      33    0  22.705         0       0       2  21984.47061\n",
              "4      32    0  28.880         0       0       2   3866.85520\n",
              "...   ...  ...     ...       ...     ...     ...          ...\n",
              "1333   50    0  30.970         3       0       2  10600.54830\n",
              "1334   18    1  31.920         0       0       3   2205.98080\n",
              "1335   18    1  36.850         0       0       1   1629.83350\n",
              "1336   21    1  25.800         0       0       0   2007.94500\n",
              "1337   61    1  29.070         0       1       2  29141.36030\n",
              "\n",
              "[1338 rows x 7 columns]"
            ]
          },
          "execution_count": 9,
          "metadata": {},
          "output_type": "execute_result"
        }
      ],
      "source": [
        "# data normalization\n",
        "normalized_data = data.copy()\n",
        "normalized_data[\"sex\"] = normalized_data[\"sex\"].apply(lambda x: 0 if x==\"male\" else 1)\n",
        "normalized_data[\"smoker\"] = normalized_data[\"smoker\"].apply(lambda x: 0 if x==\"no\" else 1)\n",
        "normalized_data[\"region\"] = normalized_data[\"region\"].apply(lambda x: 0 if x==\"southwest\" else 1 if x==\"southeast\" else 2 if x==\"northwest\"else 3 )\n",
        "normalized_data\n",
        "\n",
        "# Consider using get_dummies function for categorical columns (features)"
      ]
    },
    {
      "cell_type": "code",
      "execution_count": 10,
      "id": "nIjAIl0hkcRM",
      "metadata": {
        "colab": {
          "base_uri": "https://localhost:8080/",
          "height": 269
        },
        "id": "nIjAIl0hkcRM",
        "outputId": "c77bfd8a-da53-44fa-d29c-554a4cafd2f6"
      },
      "outputs": [
        {
          "data": {
            "text/html": [
              "<div>\n",
              "<style scoped>\n",
              "    .dataframe tbody tr th:only-of-type {\n",
              "        vertical-align: middle;\n",
              "    }\n",
              "\n",
              "    .dataframe tbody tr th {\n",
              "        vertical-align: top;\n",
              "    }\n",
              "\n",
              "    .dataframe thead th {\n",
              "        text-align: right;\n",
              "    }\n",
              "</style>\n",
              "<table border=\"1\" class=\"dataframe\">\n",
              "  <thead>\n",
              "    <tr style=\"text-align: right;\">\n",
              "      <th></th>\n",
              "      <th>age</th>\n",
              "      <th>sex</th>\n",
              "      <th>bmi</th>\n",
              "      <th>children</th>\n",
              "      <th>smoker</th>\n",
              "      <th>region</th>\n",
              "      <th>charges</th>\n",
              "    </tr>\n",
              "  </thead>\n",
              "  <tbody>\n",
              "    <tr>\n",
              "      <th>age</th>\n",
              "      <td>1.000000</td>\n",
              "      <td>0.020856</td>\n",
              "      <td>0.109272</td>\n",
              "      <td>0.042469</td>\n",
              "      <td>-0.025019</td>\n",
              "      <td>-0.002127</td>\n",
              "      <td>0.299008</td>\n",
              "    </tr>\n",
              "    <tr>\n",
              "      <th>sex</th>\n",
              "      <td>0.020856</td>\n",
              "      <td>1.000000</td>\n",
              "      <td>-0.046371</td>\n",
              "      <td>-0.017163</td>\n",
              "      <td>-0.076185</td>\n",
              "      <td>0.004588</td>\n",
              "      <td>-0.057292</td>\n",
              "    </tr>\n",
              "    <tr>\n",
              "      <th>bmi</th>\n",
              "      <td>0.109272</td>\n",
              "      <td>-0.046371</td>\n",
              "      <td>1.000000</td>\n",
              "      <td>0.012759</td>\n",
              "      <td>0.003750</td>\n",
              "      <td>-0.157566</td>\n",
              "      <td>0.198341</td>\n",
              "    </tr>\n",
              "    <tr>\n",
              "      <th>children</th>\n",
              "      <td>0.042469</td>\n",
              "      <td>-0.017163</td>\n",
              "      <td>0.012759</td>\n",
              "      <td>1.000000</td>\n",
              "      <td>0.007673</td>\n",
              "      <td>-0.016569</td>\n",
              "      <td>0.067998</td>\n",
              "    </tr>\n",
              "    <tr>\n",
              "      <th>smoker</th>\n",
              "      <td>-0.025019</td>\n",
              "      <td>-0.076185</td>\n",
              "      <td>0.003750</td>\n",
              "      <td>0.007673</td>\n",
              "      <td>1.000000</td>\n",
              "      <td>0.002181</td>\n",
              "      <td>0.787251</td>\n",
              "    </tr>\n",
              "    <tr>\n",
              "      <th>region</th>\n",
              "      <td>-0.002127</td>\n",
              "      <td>0.004588</td>\n",
              "      <td>-0.157566</td>\n",
              "      <td>-0.016569</td>\n",
              "      <td>0.002181</td>\n",
              "      <td>1.000000</td>\n",
              "      <td>0.006208</td>\n",
              "    </tr>\n",
              "    <tr>\n",
              "      <th>charges</th>\n",
              "      <td>0.299008</td>\n",
              "      <td>-0.057292</td>\n",
              "      <td>0.198341</td>\n",
              "      <td>0.067998</td>\n",
              "      <td>0.787251</td>\n",
              "      <td>0.006208</td>\n",
              "      <td>1.000000</td>\n",
              "    </tr>\n",
              "  </tbody>\n",
              "</table>\n",
              "</div>"
            ],
            "text/plain": [
              "               age       sex       bmi  children    smoker    region   charges\n",
              "age       1.000000  0.020856  0.109272  0.042469 -0.025019 -0.002127  0.299008\n",
              "sex       0.020856  1.000000 -0.046371 -0.017163 -0.076185  0.004588 -0.057292\n",
              "bmi       0.109272 -0.046371  1.000000  0.012759  0.003750 -0.157566  0.198341\n",
              "children  0.042469 -0.017163  0.012759  1.000000  0.007673 -0.016569  0.067998\n",
              "smoker   -0.025019 -0.076185  0.003750  0.007673  1.000000  0.002181  0.787251\n",
              "region   -0.002127  0.004588 -0.157566 -0.016569  0.002181  1.000000  0.006208\n",
              "charges   0.299008 -0.057292  0.198341  0.067998  0.787251  0.006208  1.000000"
            ]
          },
          "execution_count": 10,
          "metadata": {},
          "output_type": "execute_result"
        }
      ],
      "source": [
        "# Correlation\n",
        "normalized_data.corr()"
      ]
    },
    {
      "cell_type": "code",
      "execution_count": 11,
      "id": "AmepvqLbknvO",
      "metadata": {
        "colab": {
          "base_uri": "https://localhost:8080/",
          "height": 287
        },
        "id": "AmepvqLbknvO",
        "outputId": "aa5d42f1-8f93-4873-de36-9f23d1b97f64"
      },
      "outputs": [
        {
          "data": {
            "text/plain": [
              "<AxesSubplot:>"
            ]
          },
          "execution_count": 11,
          "metadata": {},
          "output_type": "execute_result"
        },
        {
          "data": {
            "image/png": "[encoded data removed]",
            "text/plain": [
              "<Figure size 432x288 with 2 Axes>"
            ]
          },
          "metadata": {
            "needs_background": "light"
          },
          "output_type": "display_data"
        }
      ],
      "source": [
        "# Heatmap\n",
        "import seaborn as sns\n",
        "sns.heatmap(data.corr())"
      ]
    },
    {
      "cell_type": "markdown",
      "id": "fzgR-i-gE1hc",
      "metadata": {
        "id": "fzgR-i-gE1hc"
      },
      "source": [
        "#model training"
      ]
    },
    {
      "cell_type": "code",
      "execution_count": 12,
      "id": "mBo9kxbmSZiF",
      "metadata": {
        "id": "mBo9kxbmSZiF"
      },
      "outputs": [],
      "source": [
        "# Split X, y from dataset\n",
        "columns = normalized_data.columns.tolist()     # Columns name\n",
        "columns.remove('charges')           # Remove y label (column charges in this case)\n",
        "feature_data = normalized_data[columns]        # X \n",
        "target_data = normalized_data.charges          # y"
      ]
    },
    {
      "cell_type": "code",
      "execution_count": 16,
      "id": "oanMcOPgScf7",
      "metadata": {
        "colab": {
          "base_uri": "https://localhost:8080/"
        },
        "id": "oanMcOPgScf7",
        "outputId": "2492fe5c-9f26-485d-ee2a-1bf7185e268e"
      },
      "outputs": [
        {
          "name": "stdout",
          "output_type": "stream",
          "text": [
            "Training:(936, 6)\n",
            "Test:(402, 6)\n"
          ]
        }
      ],
      "source": [
        "from sklearn.model_selection import train_test_split\n",
        "trainX, testX ,trainY, testY = train_test_split(feature_data, target_data, train_size=0.70, random_state=18)\n",
        "print('Training:' + str(trainX.shape))\n",
        "print('Test:' + str(testX.shape))"
      ]
    },
    {
      "attachments": {},
      "cell_type": "markdown",
      "id": "1xECUjRuFy2e",
      "metadata": {
        "id": "1xECUjRuFy2e"
      },
      "source": [
        "## mô hình Basic Linear Regression"
      ]
    },
    {
      "cell_type": "code",
      "execution_count": 17,
      "id": "6aIK-of7E6Wv",
      "metadata": {
        "id": "6aIK-of7E6Wv"
      },
      "outputs": [],
      "source": [
        "from sklearn.linear_model import LinearRegression\n",
        "model = LinearRegression(fit_intercept=True)    "
      ]
    },
    {
      "cell_type": "code",
      "execution_count": 18,
      "id": "Su7-tof4FYI0",
      "metadata": {
        "colab": {
          "base_uri": "https://localhost:8080/"
        },
        "id": "Su7-tof4FYI0",
        "outputId": "a6a8e522-96e7-4c07-e42d-f522aa0f7ebb"
      },
      "outputs": [
        {
          "data": {
            "text/html": [
              "<style>#sk-container-id-1 {color: black;background-color: white;}#sk-container-id-1 pre{padding: 0;}#sk-container-id-1 div.sk-toggleable {background-color: white;}#sk-container-id-1 label.sk-toggleable__label {cursor: pointer;display: block;width: 100%;margin-bottom: 0;padding: 0.3em;box-sizing: border-box;text-align: center;}#sk-container-id-1 label.sk-toggleable__label-arrow:before {content: \"▸\";float: left;margin-right: 0.25em;color: #696969;}#sk-container-id-1 label.sk-toggleable__label-arrow:hover:before {color: black;}#sk-container-id-1 div.sk-estimator:hover label.sk-toggleable__label-arrow:before {color: black;}#sk-container-id-1 div.sk-toggleable__content {max-height: 0;max-width: 0;overflow: hidden;text-align: left;background-color: #f0f8ff;}#sk-container-id-1 div.sk-toggleable__content pre {margin: 0.2em;color: black;border-radius: 0.25em;background-color: #f0f8ff;}#sk-container-id-1 input.sk-toggleable__control:checked~div.sk-toggleable__content {max-height: 200px;max-width: 100%;overflow: auto;}#sk-container-id-1 input.sk-toggleable__control:checked~label.sk-toggleable__label-arrow:before {content: \"▾\";}#sk-container-id-1 div.sk-estimator input.sk-toggleable__control:checked~label.sk-toggleable__label {background-color: #d4ebff;}#sk-container-id-1 div.sk-label input.sk-toggleable__control:checked~label.sk-toggleable__label {background-color: #d4ebff;}#sk-container-id-1 input.sk-hidden--visually {border: 0;clip: rect(1px 1px 1px 1px);clip: rect(1px, 1px, 1px, 1px);height: 1px;margin: -1px;overflow: hidden;padding: 0;position: absolute;width: 1px;}#sk-container-id-1 div.sk-estimator {font-family: monospace;background-color: #f0f8ff;border: 1px dotted black;border-radius: 0.25em;box-sizing: border-box;margin-bottom: 0.5em;}#sk-container-id-1 div.sk-estimator:hover {background-color: #d4ebff;}#sk-container-id-1 div.sk-parallel-item::after {content: \"\";width: 100%;border-bottom: 1px solid gray;flex-grow: 1;}#sk-container-id-1 div.sk-label:hover label.sk-toggleable__label {background-color: #d4ebff;}#sk-container-id-1 div.sk-serial::before {content: \"\";position: absolute;border-left: 1px solid gray;box-sizing: border-box;top: 0;bottom: 0;left: 50%;z-index: 0;}#sk-container-id-1 div.sk-serial {display: flex;flex-direction: column;align-items: center;background-color: white;padding-right: 0.2em;padding-left: 0.2em;position: relative;}#sk-container-id-1 div.sk-item {position: relative;z-index: 1;}#sk-container-id-1 div.sk-parallel {display: flex;align-items: stretch;justify-content: center;background-color: white;position: relative;}#sk-container-id-1 div.sk-item::before, #sk-container-id-1 div.sk-parallel-item::before {content: \"\";position: absolute;border-left: 1px solid gray;box-sizing: border-box;top: 0;bottom: 0;left: 50%;z-index: -1;}#sk-container-id-1 div.sk-parallel-item {display: flex;flex-direction: column;z-index: 1;position: relative;background-color: white;}#sk-container-id-1 div.sk-parallel-item:first-child::after {align-self: flex-end;width: 50%;}#sk-container-id-1 div.sk-parallel-item:last-child::after {align-self: flex-start;width: 50%;}#sk-container-id-1 div.sk-parallel-item:only-child::after {width: 0;}#sk-container-id-1 div.sk-dashed-wrapped {border: 1px dashed gray;margin: 0 0.4em 0.5em 0.4em;box-sizing: border-box;padding-bottom: 0.4em;background-color: white;}#sk-container-id-1 div.sk-label label {font-family: monospace;font-weight: bold;display: inline-block;line-height: 1.2em;}#sk-container-id-1 div.sk-label-container {text-align: center;}#sk-container-id-1 div.sk-container {/* jupyter's `normalize.less` sets `[hidden] { display: none; }` but bootstrap.min.css set `[hidden] { display: none !important; }` so we also need the `!important` here to be able to override the default hidden behavior on the sphinx rendered scikit-learn.org. See: https://github.com/scikit-learn/scikit-learn/issues/21755 */display: inline-block !important;position: relative;}#sk-container-id-1 div.sk-text-repr-fallback {display: none;}</style><div id=\"sk-container-id-1\" class=\"sk-top-container\"><div class=\"sk-text-repr-fallback\"><pre>LinearRegression()</pre><b>In a Jupyter environment, please rerun this cell to show the HTML representation or trust the notebook. <br />On GitHub, the HTML representation is unable to render, please try loading this page with nbviewer.org.</b></div><div class=\"sk-container\" hidden><div class=\"sk-item\"><div class=\"sk-estimator sk-toggleable\"><input class=\"sk-toggleable__control sk-hidden--visually\" id=\"sk-estimator-id-1\" type=\"checkbox\" checked><label for=\"sk-estimator-id-1\" class=\"sk-toggleable__label sk-toggleable__label-arrow\">LinearRegression</label><div class=\"sk-toggleable__content\"><pre>LinearRegression()</pre></div></div></div></div></div>"
            ],
            "text/plain": [
              "LinearRegression()"
            ]
          },
          "execution_count": 18,
          "metadata": {},
          "output_type": "execute_result"
        }
      ],
      "source": [
        "model.fit(trainX, trainY)"
      ]
    },
    {
      "cell_type": "code",
      "execution_count": 19,
      "id": "snbiK5iHFJb_",
      "metadata": {
        "colab": {
          "base_uri": "https://localhost:8080/"
        },
        "id": "snbiK5iHFJb_",
        "outputId": "8aacab00-7d8c-479e-970d-b52268b1c6cb"
      },
      "outputs": [
        {
          "name": "stdout",
          "output_type": "stream",
          "text": [
            "[  251.25523174   -46.21666435   285.113504     540.55465285\n",
            " 23640.12023282   314.19918137]\n",
            "\n",
            "-11253.913803855477\n"
          ]
        }
      ],
      "source": [
        "print(model.coef_ ) # print coefficient\n",
        "print()\n",
        "print(model.intercept_) # print intercept_"
      ]
    },
    {
      "cell_type": "code",
      "execution_count": 20,
      "id": "3L2yfw3SFWsv",
      "metadata": {
        "colab": {
          "base_uri": "https://localhost:8080/"
        },
        "id": "3L2yfw3SFWsv",
        "outputId": "6f04f7d6-16de-407c-9f55-c4c6481308e8"
      },
      "outputs": [
        {
          "data": {
            "text/plain": [
              "4161.023722991495"
            ]
          },
          "execution_count": 20,
          "metadata": {},
          "output_type": "execute_result"
        }
      ],
      "source": [
        "from sklearn.metrics import mean_absolute_error\n",
        "pred = model.predict(testX) # Predict for the test set\n",
        "mean_absolute_error(y_pred=pred, y_true=testY) # Calculate mae between test set and prediction"
      ]
    },
    {
      "cell_type": "markdown",
      "id": "4SDs25IOFoBw",
      "metadata": {
        "id": "4SDs25IOFoBw"
      },
      "source": [
        "## Polynomial Transform "
      ]
    },
    {
      "cell_type": "markdown",
      "id": "mkeldd8AF_Ju",
      "metadata": {
        "id": "mkeldd8AF_Ju"
      },
      "source": [
        "When the data feature does not conform to a linear function, a linear regression cannot be applied directly to the original data. Then, there are many possibilities that the data feature conforms to the polynomial function. Scikit-Learn supports converting data features to polynomials through ``PolynomialFeatures``.\n",
        "\n",
        "$$\n",
        "y = a_0 + a_1 x + a_2 x^2 + a_3 x^3 + \\cdots\n",
        "$$\n",
        "\n",
        "The formula above uses the transformation of the value $x$ from one dimension to the other, with the aim of being able to use linear regression to find complex relationships between $x$ and $y$."
      ]
    },
    {
      "cell_type": "code",
      "execution_count": 21,
      "id": "PXhjw_utFxzS",
      "metadata": {
        "colab": {
          "base_uri": "https://localhost:8080/"
        },
        "id": "PXhjw_utFxzS",
        "outputId": "a9a7cfaf-d625-4cae-d658-2e19eb5f4bbe"
      },
      "outputs": [
        {
          "data": {
            "text/plain": [
              "3053.6970837872605"
            ]
          },
          "execution_count": 21,
          "metadata": {},
          "output_type": "execute_result"
        }
      ],
      "source": [
        "#Linear Regression with Polynomial Transform\n",
        "from sklearn.preprocessing import PolynomialFeatures\n",
        "from sklearn.pipeline import make_pipeline\n",
        "poly_model = make_pipeline(PolynomialFeatures(2, include_bias=False), LinearRegression()) # should use include_bias=false b/c bias is included in LinearRegression() \n",
        "poly_model.fit(trainX, trainY)  \n",
        "pred = poly_model.predict(testX)\n",
        "mean_absolute_error(y_pred=pred, y_true=testY) "
      ]
    },
    {
      "cell_type": "markdown",
      "id": "AbkG2ojLW1vV",
      "metadata": {
        "id": "AbkG2ojLW1vV"
      },
      "source": [
        "degree of PolynomialFeatures function is defined by a tuple (x, y) where x is the smallest degree, y is the largest degree, if we only input 1 value t, the function will understand x = 0 and y = t\n",
        "\n",
        "> Indented block\n",
        "* if the 2nd order with 1 feature is $X_1$ then the equation is of the form:\n",
        "$$\\theta_0 + \\theta_1*X_1+\\theta_2*X_1^2$$\n",
        "* if the 2nd order with 2 features is $X_1$ and $X_2$ then the equation is of the form:\n",
        "$$\\theta_0 + \\theta_1*X_1+\\theta_2*X_2+\\theta_3*X_1^2 + \\theta_4*X_2^2 + \\theta_5*X_1*X_2$$"
      ]
    },
    {
      "cell_type": "code",
      "execution_count": 22,
      "id": "aQrCpYuAWzOp",
      "metadata": {
        "id": "aQrCpYuAWzOp"
      },
      "outputs": [],
      "source": [
        "# --- To get output of polynomial model\n",
        "# We can call its name\n",
        "linear_model = poly_model[\"linearregression\"]\n",
        "# or by number\n",
        "linear_model = poly_model[1]"
      ]
    },
    {
      "cell_type": "markdown",
      "id": "bRJaY4swGM0f",
      "metadata": {
        "id": "bRJaY4swGM0f"
      },
      "source": [
        "## Bonus"
      ]
    },
    {
      "cell_type": "markdown",
      "id": "dNUOhPR6GS3O",
      "metadata": {
        "id": "dNUOhPR6GS3O"
      },
      "source": [
        "We keep the basic linear regression model and change the order of the polinomial from 3 to 6 ."
      ]
    },
    {
      "cell_type": "code",
      "execution_count": null,
      "id": "uAwfIYl2GJzv",
      "metadata": {
        "colab": {
          "base_uri": "https://localhost:8080/"
        },
        "id": "uAwfIYl2GJzv",
        "outputId": "fac968c4-7351-4bdd-8c14-2d870dd48b20"
      },
      "outputs": [
        {
          "data": {
            "text/plain": [
              "Pipeline(steps=[('polynomialfeatures',\n",
              "                 PolynomialFeatures(degree=6, include_bias=False)),\n",
              "                ('linearregression', LinearRegression())])"
            ]
          },
          "execution_count": 66,
          "metadata": {},
          "output_type": "execute_result"
        }
      ],
      "source": [
        "#model basic \n",
        "model = LinearRegression(fit_intercept=True)   \n",
        "model.fit(trainX, trainY)\n",
        "#model polinomial \n",
        "poly_model = make_pipeline(PolynomialFeatures(6, include_bias=False), LinearRegression())\n",
        "poly_model.fit(trainX,trainY) "
      ]
    },
    {
      "cell_type": "code",
      "execution_count": null,
      "id": "6edAlDCHGo_v",
      "metadata": {
        "colab": {
          "base_uri": "https://localhost:8080/"
        },
        "id": "6edAlDCHGo_v",
        "outputId": "cee061e9-de60-4202-904a-54d1cb8bbcfa"
      },
      "outputs": [
        {
          "name": "stdout",
          "output_type": "stream",
          "text": [
            "mean absolute error của mô hình basic trên tập test là  4161.0237229914965\n",
            "mean absolute error của mô hình polynomial trên tập test là  154563.71802432765\n"
          ]
        }
      ],
      "source": [
        "pred = model.predict(testX)   \n",
        "print(\"mean absolute error of linear model on test set \", mean_absolute_error(y_pred=pred, y_true=testY) )\n",
        "pred = poly_model.predict(testX)   \n",
        "print(\"mean absolute error of linear model (with poly transform) on test set \", mean_absolute_error(y_pred=pred, y_true=testY) )\n"
      ]
    },
    {
      "cell_type": "code",
      "execution_count": null,
      "id": "HZe2gUbFG3t6",
      "metadata": {
        "colab": {
          "base_uri": "https://localhost:8080/"
        },
        "id": "HZe2gUbFG3t6",
        "outputId": "2fb32a3e-e756-4a14-cc75-a3d57c095b7a"
      },
      "outputs": [
        {
          "name": "stdout",
          "output_type": "stream",
          "text": [
            "mean absolute error của mô hình basic trên tập training là  4075.7841276918757\n",
            "mean absolute error của mô hình polynomial trên tập training là  1755.7432266931223\n"
          ]
        }
      ],
      "source": [
        "# Compare on training dataset\n",
        "pred = model.predict(trainX)   \n",
        "print(\"mean absolute error of linear model on train set \", mean_absolute_error(y_pred=pred, y_true=trainY) )\n",
        "pred = poly_model.predict(trainX)   \n",
        "print(\"mean absolute error of linear model (with poly transform) on test set \", mean_absolute_error(y_pred=pred, y_true=trainY) )\n"
      ]
    },
    {
      "cell_type": "markdown",
      "id": "pYM4yDzoHRn5",
      "metadata": {
        "id": "pYM4yDzoHRn5"
      },
      "source": [
        " This is an example for when the Linear Regression with Polynomial Transform model is better than without Polynomial Transform on the training set, but on the test set, the results are worse.\n",
        "\n",
        "In addition, with the same Linear Regression with Polynomial Transform model, the results on the test set are worse than on the training set."
      ]
    },
    {
      "cell_type": "markdown",
      "id": "hVY456_d9ffH",
      "metadata": {
        "id": "hVY456_d9ffH"
      },
      "source": [
        "#Exercise\n",
        "This is a dataset related to how much money a person can get from a mortgage on his or her home. This dataset includes the following features:\n",
        "* Gender: Gender of the borrower (including two values 'F' and 'M')\n",
        "* Age: Age of the customer applying for a loan (including positive integer values)\n",
        "* Income (USD): Customer's income in USD (value is a positive number)\n",
        "* Income Stability: The level of customer's income stability (including three values of Low and High)\n",
        "* Property Age: Life expectancy of the house in days (including positive integer values)\n",
        "* Property Location: Location of the house (including 'Rural', 'Urban', and 'Semi-Urban')\n",
        "* Property Price: The value of the house in USD (including positive real values)\n",
        "* Loan Sanction Amount (USD): Amount that customers can borrow in USD (target value)\n",
        "\n",
        "Based on practice sample #1, proceed:\n",
        "1. Read data\n",
        "2. Visualize some information of data\n",
        "3. Normalize Data to train linear regression model\n",
        "4. Train linear regression model and show the model's intercepts, coeficients\n",
        "5. Learn on sklearn how to use Ridge, Lasso, and ElasticNet compare the error of all 3 algorithms with Linear Regression (https://scikit-learn.org/stable/index.html)\n",
        "6. Let's try Polynomial of order 2 to compare the previous results. What will the result be if we choose the n order too high?\n",
        "\n",
        "\n",
        "**Submission Link**: https://forms.gle/WKCJUp7noHAKALNP9 (Submit your .ipynb or py file)"
      ]
    },
    {
      "cell_type": "code",
      "execution_count": 25,
      "id": "0ipkE40r9hAg",
      "metadata": {
        "id": "0ipkE40r9hAg"
      },
      "outputs": [
        {
          "data": {
            "text/html": [
              "<div>\n",
              "<style scoped>\n",
              "    .dataframe tbody tr th:only-of-type {\n",
              "        vertical-align: middle;\n",
              "    }\n",
              "\n",
              "    .dataframe tbody tr th {\n",
              "        vertical-align: top;\n",
              "    }\n",
              "\n",
              "    .dataframe thead th {\n",
              "        text-align: right;\n",
              "    }\n",
              "</style>\n",
              "<table border=\"1\" class=\"dataframe\">\n",
              "  <thead>\n",
              "    <tr style=\"text-align: right;\">\n",
              "      <th></th>\n",
              "      <th>Gender</th>\n",
              "      <th>Age</th>\n",
              "      <th>Income (USD)</th>\n",
              "      <th>Income Stability</th>\n",
              "      <th>Property Age</th>\n",
              "      <th>Property Location</th>\n",
              "      <th>Property Price</th>\n",
              "      <th>Loan Sanction Amount (USD)</th>\n",
              "    </tr>\n",
              "  </thead>\n",
              "  <tbody>\n",
              "    <tr>\n",
              "      <th>0</th>\n",
              "      <td>F</td>\n",
              "      <td>19</td>\n",
              "      <td>1641.25</td>\n",
              "      <td>Low</td>\n",
              "      <td>1651.25</td>\n",
              "      <td>Rural</td>\n",
              "      <td>59641.82</td>\n",
              "      <td>21026.420753</td>\n",
              "    </tr>\n",
              "    <tr>\n",
              "      <th>1</th>\n",
              "      <td>M</td>\n",
              "      <td>29</td>\n",
              "      <td>1989.71</td>\n",
              "      <td>Low</td>\n",
              "      <td>1990.71</td>\n",
              "      <td>Urban</td>\n",
              "      <td>179858.51</td>\n",
              "      <td>60595.183366</td>\n",
              "    </tr>\n",
              "    <tr>\n",
              "      <th>2</th>\n",
              "      <td>F</td>\n",
              "      <td>37</td>\n",
              "      <td>1849.91</td>\n",
              "      <td>Low</td>\n",
              "      <td>1856.91</td>\n",
              "      <td>Rural</td>\n",
              "      <td>117297.62</td>\n",
              "      <td>39181.648002</td>\n",
              "    </tr>\n",
              "    <tr>\n",
              "      <th>3</th>\n",
              "      <td>M</td>\n",
              "      <td>65</td>\n",
              "      <td>2735.18</td>\n",
              "      <td>High</td>\n",
              "      <td>2747.18</td>\n",
              "      <td>Rural</td>\n",
              "      <td>354417.72</td>\n",
              "      <td>128497.710865</td>\n",
              "    </tr>\n",
              "    <tr>\n",
              "      <th>4</th>\n",
              "      <td>F</td>\n",
              "      <td>62</td>\n",
              "      <td>4741.78</td>\n",
              "      <td>High</td>\n",
              "      <td>4740.78</td>\n",
              "      <td>Urban</td>\n",
              "      <td>82049.80</td>\n",
              "      <td>39386.919336</td>\n",
              "    </tr>\n",
              "  </tbody>\n",
              "</table>\n",
              "</div>"
            ],
            "text/plain": [
              "  Gender  Age  Income (USD) Income Stability  Property Age Property Location  \\\n",
              "0      F   19       1641.25              Low       1651.25             Rural   \n",
              "1      M   29       1989.71              Low       1990.71             Urban   \n",
              "2      F   37       1849.91              Low       1856.91             Rural   \n",
              "3      M   65       2735.18             High       2747.18             Rural   \n",
              "4      F   62       4741.78             High       4740.78             Urban   \n",
              "\n",
              "   Property Price  Loan Sanction Amount (USD)  \n",
              "0        59641.82                21026.420753  \n",
              "1       179858.51                60595.183366  \n",
              "2       117297.62                39181.648002  \n",
              "3       354417.72               128497.710865  \n",
              "4        82049.80                39386.919336  "
            ]
          },
          "execution_count": 25,
          "metadata": {},
          "output_type": "execute_result"
        }
      ],
      "source": [
        "house = pd.read_csv(\"final_house_loan.csv\")\n",
        "house.head()"
      ]
    },
    {
      "cell_type": "code",
      "execution_count": 26,
      "id": "fd7127ac",
      "metadata": {},
      "outputs": [
        {
          "data": {
            "text/html": [
              "<div>\n",
              "<style scoped>\n",
              "    .dataframe tbody tr th:only-of-type {\n",
              "        vertical-align: middle;\n",
              "    }\n",
              "\n",
              "    .dataframe tbody tr th {\n",
              "        vertical-align: top;\n",
              "    }\n",
              "\n",
              "    .dataframe thead th {\n",
              "        text-align: right;\n",
              "    }\n",
              "</style>\n",
              "<table border=\"1\" class=\"dataframe\">\n",
              "  <thead>\n",
              "    <tr style=\"text-align: right;\">\n",
              "      <th></th>\n",
              "      <th>Age</th>\n",
              "      <th>Income (USD)</th>\n",
              "      <th>Property Age</th>\n",
              "      <th>Property Price</th>\n",
              "      <th>Loan Sanction Amount (USD)</th>\n",
              "    </tr>\n",
              "  </thead>\n",
              "  <tbody>\n",
              "    <tr>\n",
              "      <th>count</th>\n",
              "      <td>47297.000000</td>\n",
              "      <td>47265.000000</td>\n",
              "      <td>47263.000000</td>\n",
              "      <td>4.729700e+04</td>\n",
              "      <td>47297.000000</td>\n",
              "    </tr>\n",
              "    <tr>\n",
              "      <th>mean</th>\n",
              "      <td>40.000063</td>\n",
              "      <td>2586.684384</td>\n",
              "      <td>2586.611058</td>\n",
              "      <td>1.350880e+05</td>\n",
              "      <td>46487.229765</td>\n",
              "    </tr>\n",
              "    <tr>\n",
              "      <th>std</th>\n",
              "      <td>16.086128</td>\n",
              "      <td>1558.768809</td>\n",
              "      <td>1558.842286</td>\n",
              "      <td>9.457875e+04</td>\n",
              "      <td>32549.905634</td>\n",
              "    </tr>\n",
              "    <tr>\n",
              "      <th>min</th>\n",
              "      <td>18.000000</td>\n",
              "      <td>372.700000</td>\n",
              "      <td>370.700000</td>\n",
              "      <td>7.859620e+03</td>\n",
              "      <td>254.586578</td>\n",
              "    </tr>\n",
              "    <tr>\n",
              "      <th>25%</th>\n",
              "      <td>24.000000</td>\n",
              "      <td>1653.740000</td>\n",
              "      <td>1652.820000</td>\n",
              "      <td>6.250408e+04</td>\n",
              "      <td>21782.822159</td>\n",
              "    </tr>\n",
              "    <tr>\n",
              "      <th>50%</th>\n",
              "      <td>40.000000</td>\n",
              "      <td>2245.480000</td>\n",
              "      <td>2244.810000</td>\n",
              "      <td>1.130936e+05</td>\n",
              "      <td>38822.132402</td>\n",
              "    </tr>\n",
              "    <tr>\n",
              "      <th>75%</th>\n",
              "      <td>55.000000</td>\n",
              "      <td>3128.560000</td>\n",
              "      <td>3128.380000</td>\n",
              "      <td>1.819546e+05</td>\n",
              "      <td>62612.236905</td>\n",
              "    </tr>\n",
              "    <tr>\n",
              "      <th>max</th>\n",
              "      <td>65.000000</td>\n",
              "      <td>54662.750000</td>\n",
              "      <td>54647.750000</td>\n",
              "      <td>1.077967e+06</td>\n",
              "      <td>366131.165218</td>\n",
              "    </tr>\n",
              "  </tbody>\n",
              "</table>\n",
              "</div>"
            ],
            "text/plain": [
              "                Age  Income (USD)  Property Age  Property Price  \\\n",
              "count  47297.000000  47265.000000  47263.000000    4.729700e+04   \n",
              "mean      40.000063   2586.684384   2586.611058    1.350880e+05   \n",
              "std       16.086128   1558.768809   1558.842286    9.457875e+04   \n",
              "min       18.000000    372.700000    370.700000    7.859620e+03   \n",
              "25%       24.000000   1653.740000   1652.820000    6.250408e+04   \n",
              "50%       40.000000   2245.480000   2244.810000    1.130936e+05   \n",
              "75%       55.000000   3128.560000   3128.380000    1.819546e+05   \n",
              "max       65.000000  54662.750000  54647.750000    1.077967e+06   \n",
              "\n",
              "       Loan Sanction Amount (USD)  \n",
              "count                47297.000000  \n",
              "mean                 46487.229765  \n",
              "std                  32549.905634  \n",
              "min                    254.586578  \n",
              "25%                  21782.822159  \n",
              "50%                  38822.132402  \n",
              "75%                  62612.236905  \n",
              "max                 366131.165218  "
            ]
          },
          "execution_count": 26,
          "metadata": {},
          "output_type": "execute_result"
        }
      ],
      "source": [
        "house.describe()"
      ]
    },
    {
      "cell_type": "code",
      "execution_count": 36,
      "id": "bba65f30",
      "metadata": {},
      "outputs": [
        {
          "data": {
            "image/png": "[encoded data removed]",
            "text/plain": [
              "<Figure size 360x360 with 1 Axes>"
            ]
          },
          "metadata": {
            "needs_background": "light"
          },
          "output_type": "display_data"
        },
        {
          "data": {
            "image/png": "[encoded data removed]",
            "text/plain": [
              "<Figure size 360x360 with 1 Axes>"
            ]
          },
          "metadata": {
            "needs_background": "light"
          },
          "output_type": "display_data"
        },
        {
          "data": {
            "image/png": "[encoded data removed]",
            "text/plain": [
              "<Figure size 360x360 with 1 Axes>"
            ]
          },
          "metadata": {
            "needs_background": "light"
          },
          "output_type": "display_data"
        },
        {
          "data": {
            "image/png": "[encoded data removed]",
            "text/plain": [
              "<Figure size 360x360 with 1 Axes>"
            ]
          },
          "metadata": {
            "needs_background": "light"
          },
          "output_type": "display_data"
        },
        {
          "data": {
            "image/png": "[encoded data removed]",
            "text/plain": [
              "<Figure size 360x360 with 1 Axes>"
            ]
          },
          "metadata": {
            "needs_background": "light"
          },
          "output_type": "display_data"
        }
      ],
      "source": [
        "# kiem tra bien nao la bien so thi ve histogram\n",
        "from pandas.api.types import is_numeric_dtype\n",
        "for column in house.columns.tolist():\n",
        "    if is_numeric_dtype(house[column]):\n",
        "        sns.displot(x=column, data=house, bins=100)"
      ]
    },
    {
      "cell_type": "code",
      "execution_count": 28,
      "id": "2cb7713f",
      "metadata": {},
      "outputs": [
        {
          "data": {
            "text/plain": [
              "Gender                         0\n",
              "Age                            0\n",
              "Income (USD)                  32\n",
              "Income Stability              12\n",
              "Property Age                  34\n",
              "Property Location              3\n",
              "Property Price                 0\n",
              "Loan Sanction Amount (USD)     0\n",
              "dtype: int64"
            ]
          },
          "execution_count": 28,
          "metadata": {},
          "output_type": "execute_result"
        }
      ],
      "source": [
        "#kiem tra co bao nhieu null o moi cot\n",
        "house.isnull().sum()"
      ]
    },
    {
      "cell_type": "code",
      "execution_count": 31,
      "id": "d371d19a",
      "metadata": {},
      "outputs": [
        {
          "name": "stdout",
          "output_type": "stream",
          "text": [
            "Sample size: 47297\n",
            "Not null sample size: 47251\n"
          ]
        }
      ],
      "source": [
        "print(\"Sample size:\", len(house))\n",
        "house = house.dropna()\n",
        "print(\"Not null sample size:\", len(house))"
      ]
    },
    {
      "cell_type": "code",
      "execution_count": 40,
      "id": "ae2a55de",
      "metadata": {},
      "outputs": [
        {
          "data": {
            "text/html": [
              "<div>\n",
              "<style scoped>\n",
              "    .dataframe tbody tr th:only-of-type {\n",
              "        vertical-align: middle;\n",
              "    }\n",
              "\n",
              "    .dataframe tbody tr th {\n",
              "        vertical-align: top;\n",
              "    }\n",
              "\n",
              "    .dataframe thead th {\n",
              "        text-align: right;\n",
              "    }\n",
              "</style>\n",
              "<table border=\"1\" class=\"dataframe\">\n",
              "  <thead>\n",
              "    <tr style=\"text-align: right;\">\n",
              "      <th></th>\n",
              "      <th>Gender</th>\n",
              "      <th>Age</th>\n",
              "      <th>Income (USD)</th>\n",
              "      <th>Income Stability</th>\n",
              "      <th>Property Age</th>\n",
              "      <th>Property Location</th>\n",
              "      <th>Property Price</th>\n",
              "      <th>Loan Sanction Amount (USD)</th>\n",
              "    </tr>\n",
              "  </thead>\n",
              "  <tbody>\n",
              "    <tr>\n",
              "      <th>0</th>\n",
              "      <td>F</td>\n",
              "      <td>19</td>\n",
              "      <td>1641.25</td>\n",
              "      <td>Low</td>\n",
              "      <td>1651.25</td>\n",
              "      <td>Rural</td>\n",
              "      <td>59641.82</td>\n",
              "      <td>21026.420753</td>\n",
              "    </tr>\n",
              "    <tr>\n",
              "      <th>1</th>\n",
              "      <td>M</td>\n",
              "      <td>29</td>\n",
              "      <td>1989.71</td>\n",
              "      <td>Low</td>\n",
              "      <td>1990.71</td>\n",
              "      <td>Urban</td>\n",
              "      <td>179858.51</td>\n",
              "      <td>60595.183366</td>\n",
              "    </tr>\n",
              "    <tr>\n",
              "      <th>2</th>\n",
              "      <td>F</td>\n",
              "      <td>37</td>\n",
              "      <td>1849.91</td>\n",
              "      <td>Low</td>\n",
              "      <td>1856.91</td>\n",
              "      <td>Rural</td>\n",
              "      <td>117297.62</td>\n",
              "      <td>39181.648002</td>\n",
              "    </tr>\n",
              "    <tr>\n",
              "      <th>3</th>\n",
              "      <td>M</td>\n",
              "      <td>65</td>\n",
              "      <td>2735.18</td>\n",
              "      <td>High</td>\n",
              "      <td>2747.18</td>\n",
              "      <td>Rural</td>\n",
              "      <td>354417.72</td>\n",
              "      <td>128497.710865</td>\n",
              "    </tr>\n",
              "    <tr>\n",
              "      <th>4</th>\n",
              "      <td>F</td>\n",
              "      <td>62</td>\n",
              "      <td>4741.78</td>\n",
              "      <td>High</td>\n",
              "      <td>4740.78</td>\n",
              "      <td>Urban</td>\n",
              "      <td>82049.80</td>\n",
              "      <td>39386.919336</td>\n",
              "    </tr>\n",
              "  </tbody>\n",
              "</table>\n",
              "</div>"
            ],
            "text/plain": [
              "  Gender  Age  Income (USD) Income Stability  Property Age Property Location  \\\n",
              "0      F   19       1641.25              Low       1651.25             Rural   \n",
              "1      M   29       1989.71              Low       1990.71             Urban   \n",
              "2      F   37       1849.91              Low       1856.91             Rural   \n",
              "3      M   65       2735.18             High       2747.18             Rural   \n",
              "4      F   62       4741.78             High       4740.78             Urban   \n",
              "\n",
              "   Property Price  Loan Sanction Amount (USD)  \n",
              "0        59641.82                21026.420753  \n",
              "1       179858.51                60595.183366  \n",
              "2       117297.62                39181.648002  \n",
              "3       354417.72               128497.710865  \n",
              "4        82049.80                39386.919336  "
            ]
          },
          "execution_count": 40,
          "metadata": {},
          "output_type": "execute_result"
        }
      ],
      "source": [
        "house.head()"
      ]
    },
    {
      "cell_type": "code",
      "execution_count": 45,
      "id": "c3b36fe2",
      "metadata": {},
      "outputs": [
        {
          "data": {
            "text/plain": [
              "array(['Low', 'High'], dtype=object)"
            ]
          },
          "execution_count": 45,
          "metadata": {},
          "output_type": "execute_result"
        }
      ],
      "source": [
        "house['Income Stability'].unique()"
      ]
    },
    {
      "cell_type": "code",
      "execution_count": 46,
      "id": "8c10bd47",
      "metadata": {},
      "outputs": [
        {
          "data": {
            "text/plain": [
              "array(['Rural', 'Urban', 'Semi-Urban'], dtype=object)"
            ]
          },
          "execution_count": 46,
          "metadata": {},
          "output_type": "execute_result"
        }
      ],
      "source": [
        "house['Property Location'].unique()"
      ]
    },
    {
      "cell_type": "code",
      "execution_count": 44,
      "id": "32fc0fd3",
      "metadata": {},
      "outputs": [
        {
          "data": {
            "text/html": [
              "<div>\n",
              "<style scoped>\n",
              "    .dataframe tbody tr th:only-of-type {\n",
              "        vertical-align: middle;\n",
              "    }\n",
              "\n",
              "    .dataframe tbody tr th {\n",
              "        vertical-align: top;\n",
              "    }\n",
              "\n",
              "    .dataframe thead th {\n",
              "        text-align: right;\n",
              "    }\n",
              "</style>\n",
              "<table border=\"1\" class=\"dataframe\">\n",
              "  <thead>\n",
              "    <tr style=\"text-align: right;\">\n",
              "      <th></th>\n",
              "      <th>Gender</th>\n",
              "      <th>Age</th>\n",
              "      <th>Income (USD)</th>\n",
              "      <th>Income Stability</th>\n",
              "      <th>Property Age</th>\n",
              "      <th>Property Location</th>\n",
              "      <th>Property Price</th>\n",
              "      <th>Loan Sanction Amount (USD)</th>\n",
              "    </tr>\n",
              "  </thead>\n",
              "  <tbody>\n",
              "    <tr>\n",
              "      <th>0</th>\n",
              "      <td>1</td>\n",
              "      <td>19</td>\n",
              "      <td>1641.25</td>\n",
              "      <td>0</td>\n",
              "      <td>1651.25</td>\n",
              "      <td>0</td>\n",
              "      <td>59641.82</td>\n",
              "      <td>21026.420753</td>\n",
              "    </tr>\n",
              "    <tr>\n",
              "      <th>1</th>\n",
              "      <td>0</td>\n",
              "      <td>29</td>\n",
              "      <td>1989.71</td>\n",
              "      <td>0</td>\n",
              "      <td>1990.71</td>\n",
              "      <td>1</td>\n",
              "      <td>179858.51</td>\n",
              "      <td>60595.183366</td>\n",
              "    </tr>\n",
              "    <tr>\n",
              "      <th>2</th>\n",
              "      <td>1</td>\n",
              "      <td>37</td>\n",
              "      <td>1849.91</td>\n",
              "      <td>0</td>\n",
              "      <td>1856.91</td>\n",
              "      <td>0</td>\n",
              "      <td>117297.62</td>\n",
              "      <td>39181.648002</td>\n",
              "    </tr>\n",
              "    <tr>\n",
              "      <th>3</th>\n",
              "      <td>0</td>\n",
              "      <td>65</td>\n",
              "      <td>2735.18</td>\n",
              "      <td>1</td>\n",
              "      <td>2747.18</td>\n",
              "      <td>0</td>\n",
              "      <td>354417.72</td>\n",
              "      <td>128497.710865</td>\n",
              "    </tr>\n",
              "    <tr>\n",
              "      <th>4</th>\n",
              "      <td>1</td>\n",
              "      <td>62</td>\n",
              "      <td>4741.78</td>\n",
              "      <td>1</td>\n",
              "      <td>4740.78</td>\n",
              "      <td>1</td>\n",
              "      <td>82049.80</td>\n",
              "      <td>39386.919336</td>\n",
              "    </tr>\n",
              "    <tr>\n",
              "      <th>...</th>\n",
              "      <td>...</td>\n",
              "      <td>...</td>\n",
              "      <td>...</td>\n",
              "      <td>...</td>\n",
              "      <td>...</td>\n",
              "      <td>...</td>\n",
              "      <td>...</td>\n",
              "      <td>...</td>\n",
              "    </tr>\n",
              "    <tr>\n",
              "      <th>47292</th>\n",
              "      <td>1</td>\n",
              "      <td>62</td>\n",
              "      <td>2121.48</td>\n",
              "      <td>0</td>\n",
              "      <td>2135.48</td>\n",
              "      <td>0</td>\n",
              "      <td>240291.63</td>\n",
              "      <td>78800.491330</td>\n",
              "    </tr>\n",
              "    <tr>\n",
              "      <th>47293</th>\n",
              "      <td>0</td>\n",
              "      <td>38</td>\n",
              "      <td>1506.72</td>\n",
              "      <td>0</td>\n",
              "      <td>1505.72</td>\n",
              "      <td>0</td>\n",
              "      <td>218431.37</td>\n",
              "      <td>72483.293359</td>\n",
              "    </tr>\n",
              "    <tr>\n",
              "      <th>47294</th>\n",
              "      <td>1</td>\n",
              "      <td>20</td>\n",
              "      <td>1595.10</td>\n",
              "      <td>0</td>\n",
              "      <td>1582.10</td>\n",
              "      <td>2</td>\n",
              "      <td>154458.88</td>\n",
              "      <td>52462.861498</td>\n",
              "    </tr>\n",
              "    <tr>\n",
              "      <th>47295</th>\n",
              "      <td>1</td>\n",
              "      <td>50</td>\n",
              "      <td>2002.27</td>\n",
              "      <td>0</td>\n",
              "      <td>2007.27</td>\n",
              "      <td>2</td>\n",
              "      <td>72277.78</td>\n",
              "      <td>22909.596763</td>\n",
              "    </tr>\n",
              "    <tr>\n",
              "      <th>47296</th>\n",
              "      <td>1</td>\n",
              "      <td>46</td>\n",
              "      <td>492.91</td>\n",
              "      <td>0</td>\n",
              "      <td>497.91</td>\n",
              "      <td>0</td>\n",
              "      <td>24597.61</td>\n",
              "      <td>5941.989388</td>\n",
              "    </tr>\n",
              "  </tbody>\n",
              "</table>\n",
              "<p>47251 rows × 8 columns</p>\n",
              "</div>"
            ],
            "text/plain": [
              "       Gender  Age  Income (USD)  Income Stability  Property Age  \\\n",
              "0           1   19       1641.25                 0       1651.25   \n",
              "1           0   29       1989.71                 0       1990.71   \n",
              "2           1   37       1849.91                 0       1856.91   \n",
              "3           0   65       2735.18                 1       2747.18   \n",
              "4           1   62       4741.78                 1       4740.78   \n",
              "...       ...  ...           ...               ...           ...   \n",
              "47292       1   62       2121.48                 0       2135.48   \n",
              "47293       0   38       1506.72                 0       1505.72   \n",
              "47294       1   20       1595.10                 0       1582.10   \n",
              "47295       1   50       2002.27                 0       2007.27   \n",
              "47296       1   46        492.91                 0        497.91   \n",
              "\n",
              "       Property Location  Property Price  Loan Sanction Amount (USD)  \n",
              "0                      0        59641.82                21026.420753  \n",
              "1                      1       179858.51                60595.183366  \n",
              "2                      0       117297.62                39181.648002  \n",
              "3                      0       354417.72               128497.710865  \n",
              "4                      1        82049.80                39386.919336  \n",
              "...                  ...             ...                         ...  \n",
              "47292                  0       240291.63                78800.491330  \n",
              "47293                  0       218431.37                72483.293359  \n",
              "47294                  2       154458.88                52462.861498  \n",
              "47295                  2        72277.78                22909.596763  \n",
              "47296                  0        24597.61                 5941.989388  \n",
              "\n",
              "[47251 rows x 8 columns]"
            ]
          },
          "execution_count": 44,
          "metadata": {},
          "output_type": "execute_result"
        }
      ],
      "source": [
        "normalized_house = house.copy()\n",
        "normalized_house[\"Gender\"] = normalized_house[\"Gender\"].apply(lambda x: 0 if x==\"M\" else 1)\n",
        "normalized_house[\"Income Stability\"] = normalized_house[\"Income Stability\"].apply(lambda x: 0 if x==\"Low\" else 1)\n",
        "normalized_house[\"Property Location\"] = normalized_house[\"Property Location\"].apply(lambda x: 0 if x==\"Rural\" else 1 if x==\"Urban\" else 2 if x==\"Semi-Urban\"else 3 )\n",
        "normalized_house"
      ]
    },
    {
      "cell_type": "code",
      "execution_count": 47,
      "id": "41271249",
      "metadata": {},
      "outputs": [
        {
          "data": {
            "text/html": [
              "<div>\n",
              "<style scoped>\n",
              "    .dataframe tbody tr th:only-of-type {\n",
              "        vertical-align: middle;\n",
              "    }\n",
              "\n",
              "    .dataframe tbody tr th {\n",
              "        vertical-align: top;\n",
              "    }\n",
              "\n",
              "    .dataframe thead th {\n",
              "        text-align: right;\n",
              "    }\n",
              "</style>\n",
              "<table border=\"1\" class=\"dataframe\">\n",
              "  <thead>\n",
              "    <tr style=\"text-align: right;\">\n",
              "      <th></th>\n",
              "      <th>Age</th>\n",
              "      <th>Income (USD)</th>\n",
              "      <th>Property Age</th>\n",
              "      <th>Property Price</th>\n",
              "      <th>Loan Sanction Amount (USD)</th>\n",
              "    </tr>\n",
              "  </thead>\n",
              "  <tbody>\n",
              "    <tr>\n",
              "      <th>Age</th>\n",
              "      <td>1.000000</td>\n",
              "      <td>-0.044086</td>\n",
              "      <td>-0.044085</td>\n",
              "      <td>-0.003274</td>\n",
              "      <td>-0.000115</td>\n",
              "    </tr>\n",
              "    <tr>\n",
              "      <th>Income (USD)</th>\n",
              "      <td>-0.044086</td>\n",
              "      <td>1.000000</td>\n",
              "      <td>0.999986</td>\n",
              "      <td>0.358110</td>\n",
              "      <td>0.392897</td>\n",
              "    </tr>\n",
              "    <tr>\n",
              "      <th>Property Age</th>\n",
              "      <td>-0.044085</td>\n",
              "      <td>0.999986</td>\n",
              "      <td>1.000000</td>\n",
              "      <td>0.358110</td>\n",
              "      <td>0.392892</td>\n",
              "    </tr>\n",
              "    <tr>\n",
              "      <th>Property Price</th>\n",
              "      <td>-0.003274</td>\n",
              "      <td>0.358110</td>\n",
              "      <td>0.358110</td>\n",
              "      <td>1.000000</td>\n",
              "      <td>0.994429</td>\n",
              "    </tr>\n",
              "    <tr>\n",
              "      <th>Loan Sanction Amount (USD)</th>\n",
              "      <td>-0.000115</td>\n",
              "      <td>0.392897</td>\n",
              "      <td>0.392892</td>\n",
              "      <td>0.994429</td>\n",
              "      <td>1.000000</td>\n",
              "    </tr>\n",
              "  </tbody>\n",
              "</table>\n",
              "</div>"
            ],
            "text/plain": [
              "                                 Age  Income (USD)  Property Age  \\\n",
              "Age                         1.000000     -0.044086     -0.044085   \n",
              "Income (USD)               -0.044086      1.000000      0.999986   \n",
              "Property Age               -0.044085      0.999986      1.000000   \n",
              "Property Price             -0.003274      0.358110      0.358110   \n",
              "Loan Sanction Amount (USD) -0.000115      0.392897      0.392892   \n",
              "\n",
              "                            Property Price  Loan Sanction Amount (USD)  \n",
              "Age                              -0.003274                   -0.000115  \n",
              "Income (USD)                      0.358110                    0.392897  \n",
              "Property Age                      0.358110                    0.392892  \n",
              "Property Price                    1.000000                    0.994429  \n",
              "Loan Sanction Amount (USD)        0.994429                    1.000000  "
            ]
          },
          "execution_count": 47,
          "metadata": {},
          "output_type": "execute_result"
        }
      ],
      "source": [
        "house.corr()"
      ]
    },
    {
      "cell_type": "code",
      "execution_count": 48,
      "id": "ac360e50",
      "metadata": {},
      "outputs": [
        {
          "data": {
            "text/plain": [
              "<AxesSubplot:>"
            ]
          },
          "execution_count": 48,
          "metadata": {},
          "output_type": "execute_result"
        },
        {
          "data": {
            "image/png": "[encoded data removed]",
            "text/plain": [
              "<Figure size 432x288 with 2 Axes>"
            ]
          },
          "metadata": {
            "needs_background": "light"
          },
          "output_type": "display_data"
        }
      ],
      "source": [
        "sns.heatmap(house.corr())"
      ]
    },
    {
      "cell_type": "code",
      "execution_count": 49,
      "id": "35065ad8",
      "metadata": {},
      "outputs": [],
      "source": [
        "# Split X, y from dataset\n",
        "columns = normalized_house.columns.tolist()     # Columns name\n",
        "columns.remove('Loan Sanction Amount (USD)')           # Remove y label (column charges in this case)\n",
        "feature_data = normalized_house[columns]        # X \n",
        "target_data = normalized_house['Loan Sanction Amount (USD)']          # y"
      ]
    },
    {
      "cell_type": "code",
      "execution_count": 52,
      "id": "215afabd",
      "metadata": {},
      "outputs": [
        {
          "name": "stdout",
          "output_type": "stream",
          "text": [
            "Training:(33075, 7)\n",
            "Test:(14176, 7)\n"
          ]
        }
      ],
      "source": [
        "from sklearn.model_selection import train_test_split\n",
        "trainX, testX ,trainY, testY = train_test_split(feature_data, target_data, train_size=0.70, random_state=18)\n",
        "print('Training:' + str(trainX.shape))\n",
        "print('Test:' + str(testX.shape))"
      ]
    },
    {
      "cell_type": "code",
      "execution_count": 54,
      "id": "783e7f81",
      "metadata": {},
      "outputs": [],
      "source": [
        "from sklearn.linear_model import LinearRegression\n",
        "model = LinearRegression(fit_intercept=True)   "
      ]
    },
    {
      "cell_type": "code",
      "execution_count": 56,
      "id": "48053a44",
      "metadata": {},
      "outputs": [
        {
          "data": {
            "text/html": [
              "<style>#sk-container-id-3 {color: black;background-color: white;}#sk-container-id-3 pre{padding: 0;}#sk-container-id-3 div.sk-toggleable {background-color: white;}#sk-container-id-3 label.sk-toggleable__label {cursor: pointer;display: block;width: 100%;margin-bottom: 0;padding: 0.3em;box-sizing: border-box;text-align: center;}#sk-container-id-3 label.sk-toggleable__label-arrow:before {content: \"▸\";float: left;margin-right: 0.25em;color: #696969;}#sk-container-id-3 label.sk-toggleable__label-arrow:hover:before {color: black;}#sk-container-id-3 div.sk-estimator:hover label.sk-toggleable__label-arrow:before {color: black;}#sk-container-id-3 div.sk-toggleable__content {max-height: 0;max-width: 0;overflow: hidden;text-align: left;background-color: #f0f8ff;}#sk-container-id-3 div.sk-toggleable__content pre {margin: 0.2em;color: black;border-radius: 0.25em;background-color: #f0f8ff;}#sk-container-id-3 input.sk-toggleable__control:checked~div.sk-toggleable__content {max-height: 200px;max-width: 100%;overflow: auto;}#sk-container-id-3 input.sk-toggleable__control:checked~label.sk-toggleable__label-arrow:before {content: \"▾\";}#sk-container-id-3 div.sk-estimator input.sk-toggleable__control:checked~label.sk-toggleable__label {background-color: #d4ebff;}#sk-container-id-3 div.sk-label input.sk-toggleable__control:checked~label.sk-toggleable__label {background-color: #d4ebff;}#sk-container-id-3 input.sk-hidden--visually {border: 0;clip: rect(1px 1px 1px 1px);clip: rect(1px, 1px, 1px, 1px);height: 1px;margin: -1px;overflow: hidden;padding: 0;position: absolute;width: 1px;}#sk-container-id-3 div.sk-estimator {font-family: monospace;background-color: #f0f8ff;border: 1px dotted black;border-radius: 0.25em;box-sizing: border-box;margin-bottom: 0.5em;}#sk-container-id-3 div.sk-estimator:hover {background-color: #d4ebff;}#sk-container-id-3 div.sk-parallel-item::after {content: \"\";width: 100%;border-bottom: 1px solid gray;flex-grow: 1;}#sk-container-id-3 div.sk-label:hover label.sk-toggleable__label {background-color: #d4ebff;}#sk-container-id-3 div.sk-serial::before {content: \"\";position: absolute;border-left: 1px solid gray;box-sizing: border-box;top: 0;bottom: 0;left: 50%;z-index: 0;}#sk-container-id-3 div.sk-serial {display: flex;flex-direction: column;align-items: center;background-color: white;padding-right: 0.2em;padding-left: 0.2em;position: relative;}#sk-container-id-3 div.sk-item {position: relative;z-index: 1;}#sk-container-id-3 div.sk-parallel {display: flex;align-items: stretch;justify-content: center;background-color: white;position: relative;}#sk-container-id-3 div.sk-item::before, #sk-container-id-3 div.sk-parallel-item::before {content: \"\";position: absolute;border-left: 1px solid gray;box-sizing: border-box;top: 0;bottom: 0;left: 50%;z-index: -1;}#sk-container-id-3 div.sk-parallel-item {display: flex;flex-direction: column;z-index: 1;position: relative;background-color: white;}#sk-container-id-3 div.sk-parallel-item:first-child::after {align-self: flex-end;width: 50%;}#sk-container-id-3 div.sk-parallel-item:last-child::after {align-self: flex-start;width: 50%;}#sk-container-id-3 div.sk-parallel-item:only-child::after {width: 0;}#sk-container-id-3 div.sk-dashed-wrapped {border: 1px dashed gray;margin: 0 0.4em 0.5em 0.4em;box-sizing: border-box;padding-bottom: 0.4em;background-color: white;}#sk-container-id-3 div.sk-label label {font-family: monospace;font-weight: bold;display: inline-block;line-height: 1.2em;}#sk-container-id-3 div.sk-label-container {text-align: center;}#sk-container-id-3 div.sk-container {/* jupyter's `normalize.less` sets `[hidden] { display: none; }` but bootstrap.min.css set `[hidden] { display: none !important; }` so we also need the `!important` here to be able to override the default hidden behavior on the sphinx rendered scikit-learn.org. See: https://github.com/scikit-learn/scikit-learn/issues/21755 */display: inline-block !important;position: relative;}#sk-container-id-3 div.sk-text-repr-fallback {display: none;}</style><div id=\"sk-container-id-3\" class=\"sk-top-container\"><div class=\"sk-text-repr-fallback\"><pre>LinearRegression()</pre><b>In a Jupyter environment, please rerun this cell to show the HTML representation or trust the notebook. <br />On GitHub, the HTML representation is unable to render, please try loading this page with nbviewer.org.</b></div><div class=\"sk-container\" hidden><div class=\"sk-item\"><div class=\"sk-estimator sk-toggleable\"><input class=\"sk-toggleable__control sk-hidden--visually\" id=\"sk-estimator-id-3\" type=\"checkbox\" checked><label for=\"sk-estimator-id-3\" class=\"sk-toggleable__label sk-toggleable__label-arrow\">LinearRegression</label><div class=\"sk-toggleable__content\"><pre>LinearRegression()</pre></div></div></div></div></div>"
            ],
            "text/plain": [
              "LinearRegression()"
            ]
          },
          "execution_count": 56,
          "metadata": {},
          "output_type": "execute_result"
        }
      ],
      "source": [
        "model.fit(trainX,trainY)"
      ]
    },
    {
      "cell_type": "code",
      "execution_count": 57,
      "id": "5367e68f",
      "metadata": {},
      "outputs": [
        {
          "name": "stdout",
          "output_type": "stream",
          "text": [
            "[ 2.60164273e+02 -7.90188570e+01  5.39906594e-01  1.11406591e+04\n",
            "  4.87537805e-01 -1.29720936e+02  3.36164742e-01]\n",
            "\n",
            "576.3603745683577\n"
          ]
        }
      ],
      "source": [
        "print(model.coef_ ) # print coefficient\n",
        "print()\n",
        "print(model.intercept_) # print intercept_"
      ]
    }
  ],
  "metadata": {
    "colab": {
      "provenance": []
    },
    "kernelspec": {
      "display_name": "Python 3 (ipykernel)",
      "language": "python",
      "name": "python3"
    },
    "language_info": {
      "codemirror_mode": {
        "name": "ipython",
        "version": 3
      },
      "file_extension": ".py",
      "mimetype": "text/x-python",
      "name": "python",
      "nbconvert_exporter": "python",
      "pygments_lexer": "ipython3",
      "version": "3.8.8"
    }
  },
  "nbformat": 4,
  "nbformat_minor": 5
}

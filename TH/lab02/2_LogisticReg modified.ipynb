{
 "cells": [
  {
   "cell_type": "markdown",
   "metadata": {
    "id": "_Z3p19sOSGxo"
   },
   "source": [
    "# Hướng dẫn cách dùng Logistic Regression"
   ]
  },
  {
   "cell_type": "code",
   "execution_count": 1,
   "metadata": {
    "id": "cXwgUpI7SF_5"
   },
   "outputs": [],
   "source": [
    "import pandas as pd\n",
    "import numpy as np\n",
    "\n",
    "x = np.random.randint(low=-100, high=100, size=100)        # Tạo ngẫu nhiên N số thực trong khoảng từ -100 đến 100, gán vào mảng x.\n",
    "y = [0 if i < 0 else 1 for i in x]                         # Tính N giá trị y: 0 nếu x < 0 và 1 nếu x > 0, gán vào mảng y."
   ]
  },
  {
   "cell_type": "code",
   "execution_count": 2,
   "metadata": {
    "colab": {
     "base_uri": "https://localhost:8080/",
     "height": 265
    },
    "id": "gBbMPWUwSNXx",
    "outputId": "97b576bd-a590-4fdf-c214-d668541f7be1"
   },
   "outputs": [
    {
     "data": {
      "image/png": "[encoded data removed]",
      "text/plain": [
       "<Figure size 432x288 with 1 Axes>"
      ]
     },
     "metadata": {
      "needs_background": "light"
     },
     "output_type": "display_data"
    }
   ],
   "source": [
    "import matplotlib.pyplot as plt\n",
    "plt.scatter(x, y);                      # Vẽ các cặp giá trị (x,y)"
   ]
  },
  {
   "cell_type": "code",
   "execution_count": 3,
   "metadata": {
    "id": "_YMBdpPTSNVJ"
   },
   "outputs": [],
   "source": [
    "from sklearn.linear_model import LogisticRegression\n",
    "model = LogisticRegression(fit_intercept=True)        # Khởi tạo mô hình Logistic Regression"
   ]
  },
  {
   "cell_type": "markdown",
   "metadata": {
    "id": "s12DmmtkS5yN"
   },
   "source": [
    "Tham số ``fit_intercept`` xác định việc thêm hằng số $a_0$ (bias) vào hàm Logistic Regression.\n",
    "- ``fit_intercept = True``: hàm Logistic Regression có dạng\n",
    "\\begin{equation*}\n",
    "p = \\frac{1}{1+e^{a_0+a_1x}}\n",
    "\\end{equation*}\n",
    "- ``fit_intercept = False``: hàm Logistic Regression có dạng\n",
    "\\begin{equation*}\n",
    "p = \\frac{1}{1+e^{a_1x}}\n",
    "\\end{equation*}\n"
   ]
  },
  {
   "cell_type": "code",
   "execution_count": 4,
   "metadata": {
    "colab": {
     "base_uri": "https://localhost:8080/"
    },
    "id": "MI6rVhlGSNTD",
    "outputId": "a00dd003-cb87-4067-bb42-e98b67dfa5b5"
   },
   "outputs": [
    {
     "data": {
      "text/html": [
       "<style>#sk-container-id-1 {color: black;background-color: white;}#sk-container-id-1 pre{padding: 0;}#sk-container-id-1 div.sk-toggleable {background-color: white;}#sk-container-id-1 label.sk-toggleable__label {cursor: pointer;display: block;width: 100%;margin-bottom: 0;padding: 0.3em;box-sizing: border-box;text-align: center;}#sk-container-id-1 label.sk-toggleable__label-arrow:before {content: \"▸\";float: left;margin-right: 0.25em;color: #696969;}#sk-container-id-1 label.sk-toggleable__label-arrow:hover:before {color: black;}#sk-container-id-1 div.sk-estimator:hover label.sk-toggleable__label-arrow:before {color: black;}#sk-container-id-1 div.sk-toggleable__content {max-height: 0;max-width: 0;overflow: hidden;text-align: left;background-color: #f0f8ff;}#sk-container-id-1 div.sk-toggleable__content pre {margin: 0.2em;color: black;border-radius: 0.25em;background-color: #f0f8ff;}#sk-container-id-1 input.sk-toggleable__control:checked~div.sk-toggleable__content {max-height: 200px;max-width: 100%;overflow: auto;}#sk-container-id-1 input.sk-toggleable__control:checked~label.sk-toggleable__label-arrow:before {content: \"▾\";}#sk-container-id-1 div.sk-estimator input.sk-toggleable__control:checked~label.sk-toggleable__label {background-color: #d4ebff;}#sk-container-id-1 div.sk-label input.sk-toggleable__control:checked~label.sk-toggleable__label {background-color: #d4ebff;}#sk-container-id-1 input.sk-hidden--visually {border: 0;clip: rect(1px 1px 1px 1px);clip: rect(1px, 1px, 1px, 1px);height: 1px;margin: -1px;overflow: hidden;padding: 0;position: absolute;width: 1px;}#sk-container-id-1 div.sk-estimator {font-family: monospace;background-color: #f0f8ff;border: 1px dotted black;border-radius: 0.25em;box-sizing: border-box;margin-bottom: 0.5em;}#sk-container-id-1 div.sk-estimator:hover {background-color: #d4ebff;}#sk-container-id-1 div.sk-parallel-item::after {content: \"\";width: 100%;border-bottom: 1px solid gray;flex-grow: 1;}#sk-container-id-1 div.sk-label:hover label.sk-toggleable__label {background-color: #d4ebff;}#sk-container-id-1 div.sk-serial::before {content: \"\";position: absolute;border-left: 1px solid gray;box-sizing: border-box;top: 0;bottom: 0;left: 50%;z-index: 0;}#sk-container-id-1 div.sk-serial {display: flex;flex-direction: column;align-items: center;background-color: white;padding-right: 0.2em;padding-left: 0.2em;position: relative;}#sk-container-id-1 div.sk-item {position: relative;z-index: 1;}#sk-container-id-1 div.sk-parallel {display: flex;align-items: stretch;justify-content: center;background-color: white;position: relative;}#sk-container-id-1 div.sk-item::before, #sk-container-id-1 div.sk-parallel-item::before {content: \"\";position: absolute;border-left: 1px solid gray;box-sizing: border-box;top: 0;bottom: 0;left: 50%;z-index: -1;}#sk-container-id-1 div.sk-parallel-item {display: flex;flex-direction: column;z-index: 1;position: relative;background-color: white;}#sk-container-id-1 div.sk-parallel-item:first-child::after {align-self: flex-end;width: 50%;}#sk-container-id-1 div.sk-parallel-item:last-child::after {align-self: flex-start;width: 50%;}#sk-container-id-1 div.sk-parallel-item:only-child::after {width: 0;}#sk-container-id-1 div.sk-dashed-wrapped {border: 1px dashed gray;margin: 0 0.4em 0.5em 0.4em;box-sizing: border-box;padding-bottom: 0.4em;background-color: white;}#sk-container-id-1 div.sk-label label {font-family: monospace;font-weight: bold;display: inline-block;line-height: 1.2em;}#sk-container-id-1 div.sk-label-container {text-align: center;}#sk-container-id-1 div.sk-container {/* jupyter's `normalize.less` sets `[hidden] { display: none; }` but bootstrap.min.css set `[hidden] { display: none !important; }` so we also need the `!important` here to be able to override the default hidden behavior on the sphinx rendered scikit-learn.org. See: https://github.com/scikit-learn/scikit-learn/issues/21755 */display: inline-block !important;position: relative;}#sk-container-id-1 div.sk-text-repr-fallback {display: none;}</style><div id=\"sk-container-id-1\" class=\"sk-top-container\"><div class=\"sk-text-repr-fallback\"><pre>LogisticRegression()</pre><b>In a Jupyter environment, please rerun this cell to show the HTML representation or trust the notebook. <br />On GitHub, the HTML representation is unable to render, please try loading this page with nbviewer.org.</b></div><div class=\"sk-container\" hidden><div class=\"sk-item\"><div class=\"sk-estimator sk-toggleable\"><input class=\"sk-toggleable__control sk-hidden--visually\" id=\"sk-estimator-id-1\" type=\"checkbox\" checked><label for=\"sk-estimator-id-1\" class=\"sk-toggleable__label sk-toggleable__label-arrow\">LogisticRegression</label><div class=\"sk-toggleable__content\"><pre>LogisticRegression()</pre></div></div></div></div></div>"
      ],
      "text/plain": [
       "LogisticRegression()"
      ]
     },
     "execution_count": 4,
     "metadata": {},
     "output_type": "execute_result"
    }
   ],
   "source": [
    "model.fit(x[:, np.newaxis], y)      # Học mô hình dựa trên x và y"
   ]
  },
  {
   "cell_type": "markdown",
   "metadata": {
    "id": "MlKVyQpFS_Si"
   },
   "source": [
    "``x[:, np.newaxis]``: hàm ``np.newaxis`` tăng số chiều của vector ``x`` (1D) lên 1, đồng nghĩa với chuyển ``x`` sang vector cột (2D). Đây là yêu cầu của ``sklearn`` từ phiên bản 0.19."
   ]
  },
  {
   "cell_type": "code",
   "execution_count": 5,
   "metadata": {
    "colab": {
     "base_uri": "https://localhost:8080/",
     "height": 319
    },
    "id": "SN0QdFPAS_Dt",
    "outputId": "d465be91-0cd5-4425-f9e4-c507dd352c92"
   },
   "outputs": [
    {
     "name": "stdout",
     "output_type": "stream",
     "text": [
      "xfit = [-89 -16 -34  49  10 -26 -97 -10  28 -11]\n",
      "xfit = [0 0 0 1 1 0 0 0 1 0]\n",
      "Accuracy: 1.0\n"
     ]
    },
    {
     "data": {
      "image/png": "[encoded data removed]",
      "text/plain": [
       "<Figure size 432x288 with 1 Axes>"
      ]
     },
     "metadata": {
      "needs_background": "light"
     },
     "output_type": "display_data"
    }
   ],
   "source": [
    "from sklearn.metrics import accuracy_score\n",
    "xfit = np.random.randint(low=-100, high=100, size=10)                      # Tạo ngẫu nhiên M số thực trong khoảng từ -100 đến 100, gán vào mảng x.\n",
    "ytrue = [0 if i < 0 else 1 for i in xfit]\n",
    "yfit = model.predict(xfit[:, np.newaxis])                                  # Dùng mô hình để tính toán M điểm y tương ứng\n",
    "\n",
    "plt.scatter(xfit, yfit)                                                   # Vẽ đường thẳng nối các điểm (xfit, yfit) từ mô hình học được\n",
    "print('xfit = ' + str(xfit))\n",
    "print('xfit = ' + str(yfit))\n",
    "print('Accuracy: ' + str(accuracy_score(y_pred=yfit, y_true=ytrue)))       # Tính mean absolute error để biết performance (hiệu năng) của mô hình dựa trên kết quả dự đoán và label thực tế."
   ]
  },
  {
   "cell_type": "code",
   "execution_count": 6,
   "metadata": {
    "colab": {
     "base_uri": "https://localhost:8080/"
    },
    "id": "N1xKyYQDSNQt",
    "outputId": "67989e79-6bda-4365-9a88-3243c996108d"
   },
   "outputs": [
    {
     "name": "stdout",
     "output_type": "stream",
     "text": [
      "[[1.10281559]]\n",
      "[0.78012336]\n"
     ]
    }
   ],
   "source": [
    "print(model.coef_)                  # Hệ số a1.\n",
    "print(model.intercept_)             # Hệ số intercept a0."
   ]
  },
  {
   "cell_type": "markdown",
   "metadata": {
    "id": "UMRV6xGeSKem"
   },
   "source": [
    "# Example Practise"
   ]
  },
  {
   "cell_type": "code",
   "execution_count": 7,
   "metadata": {
    "ExecuteTime": {
     "end_time": "2023-04-08T17:55:44.881501Z",
     "start_time": "2023-04-08T17:55:44.823681Z"
    },
    "executionInfo": {
     "elapsed": 395,
     "status": "ok",
     "timestamp": 1657046116530,
     "user": {
      "displayName": "Sơn Huỳnh Thanh",
      "userId": "12358216226509522886"
     },
     "user_tz": -420
    },
    "id": "b91Tq2TYfA6J"
   },
   "outputs": [],
   "source": [
    "# import thư viện\n",
    "import pandas as pd\n",
    "import numpy as np\n",
    "import matplotlib.pyplot as plt\n",
    "import seaborn as sns\n",
    "%matplotlib inline"
   ]
  },
  {
   "cell_type": "code",
   "execution_count": 8,
   "metadata": {
    "ExecuteTime": {
     "end_time": "2023-04-08T17:55:44.887436Z",
     "start_time": "2023-04-08T17:55:44.881143Z"
    },
    "executionInfo": {
     "elapsed": 352,
     "status": "ok",
     "timestamp": 1657046187197,
     "user": {
      "displayName": "Sơn Huỳnh Thanh",
      "userId": "12358216226509522886"
     },
     "user_tz": -420
    },
    "id": "eCzp550JfNFe"
   },
   "outputs": [],
   "source": [
    "#đọc thư viện\n",
    "# read data using Pandas DataFrame\n",
    "def read_dataset(path):\n",
    "    \"\"\"\n",
    "    Load Dataset\n",
    "    :param path: (str) path to your file\n",
    "    :return: pandas DataFrame\n",
    "    \"\"\"\n",
    "    # Todo: read_csv from a path and return a DataFrame\n",
    "    df = pd.read_csv(path)\n",
    "    return df"
   ]
  },
  {
   "cell_type": "code",
   "execution_count": 9,
   "metadata": {
    "ExecuteTime": {
     "end_time": "2023-04-08T17:55:45.087598Z",
     "start_time": "2023-04-08T17:55:44.890571Z"
    },
    "colab": {
     "base_uri": "https://localhost:8080/",
     "height": 206
    },
    "executionInfo": {
     "elapsed": 5,
     "status": "ok",
     "timestamp": 1657046188718,
     "user": {
      "displayName": "Sơn Huỳnh Thanh",
      "userId": "12358216226509522886"
     },
     "user_tz": -420
    },
    "id": "vl3GFLPVtpkW",
    "outputId": "86b25ae4-def3-465d-93d6-f7e85dfd7a66"
   },
   "outputs": [
    {
     "data": {
      "text/html": [
       "<div>\n",
       "<style scoped>\n",
       "    .dataframe tbody tr th:only-of-type {\n",
       "        vertical-align: middle;\n",
       "    }\n",
       "\n",
       "    .dataframe tbody tr th {\n",
       "        vertical-align: top;\n",
       "    }\n",
       "\n",
       "    .dataframe thead th {\n",
       "        text-align: right;\n",
       "    }\n",
       "</style>\n",
       "<table border=\"1\" class=\"dataframe\">\n",
       "  <thead>\n",
       "    <tr style=\"text-align: right;\">\n",
       "      <th></th>\n",
       "      <th>age</th>\n",
       "      <th>job</th>\n",
       "      <th>marital</th>\n",
       "      <th>education</th>\n",
       "      <th>default</th>\n",
       "      <th>balance</th>\n",
       "      <th>housing</th>\n",
       "      <th>loan</th>\n",
       "      <th>contact</th>\n",
       "      <th>day</th>\n",
       "      <th>month</th>\n",
       "      <th>duration</th>\n",
       "      <th>campaign</th>\n",
       "      <th>pdays</th>\n",
       "      <th>previous</th>\n",
       "      <th>poutcome</th>\n",
       "      <th>y</th>\n",
       "    </tr>\n",
       "  </thead>\n",
       "  <tbody>\n",
       "    <tr>\n",
       "      <th>0</th>\n",
       "      <td>47.0</td>\n",
       "      <td>management</td>\n",
       "      <td>married</td>\n",
       "      <td>tertiary</td>\n",
       "      <td>no</td>\n",
       "      <td>2351.0</td>\n",
       "      <td>no</td>\n",
       "      <td>no</td>\n",
       "      <td>cellular</td>\n",
       "      <td>2</td>\n",
       "      <td>jun</td>\n",
       "      <td>163</td>\n",
       "      <td>2</td>\n",
       "      <td>84</td>\n",
       "      <td>1</td>\n",
       "      <td>success</td>\n",
       "      <td>yes</td>\n",
       "    </tr>\n",
       "    <tr>\n",
       "      <th>1</th>\n",
       "      <td>26.0</td>\n",
       "      <td>admin.</td>\n",
       "      <td>single</td>\n",
       "      <td>secondary</td>\n",
       "      <td>no</td>\n",
       "      <td>255.0</td>\n",
       "      <td>no</td>\n",
       "      <td>no</td>\n",
       "      <td>cellular</td>\n",
       "      <td>14</td>\n",
       "      <td>aug</td>\n",
       "      <td>209</td>\n",
       "      <td>2</td>\n",
       "      <td>106</td>\n",
       "      <td>2</td>\n",
       "      <td>success</td>\n",
       "      <td>yes</td>\n",
       "    </tr>\n",
       "    <tr>\n",
       "      <th>2</th>\n",
       "      <td>26.0</td>\n",
       "      <td>admin.</td>\n",
       "      <td>single</td>\n",
       "      <td>secondary</td>\n",
       "      <td>no</td>\n",
       "      <td>256.0</td>\n",
       "      <td>no</td>\n",
       "      <td>no</td>\n",
       "      <td>cellular</td>\n",
       "      <td>14</td>\n",
       "      <td>aug</td>\n",
       "      <td>210</td>\n",
       "      <td>2</td>\n",
       "      <td>106</td>\n",
       "      <td>2</td>\n",
       "      <td>success</td>\n",
       "      <td>yes</td>\n",
       "    </tr>\n",
       "    <tr>\n",
       "      <th>3</th>\n",
       "      <td>26.0</td>\n",
       "      <td>admin.</td>\n",
       "      <td>single</td>\n",
       "      <td>secondary</td>\n",
       "      <td>no</td>\n",
       "      <td>257.0</td>\n",
       "      <td>no</td>\n",
       "      <td>no</td>\n",
       "      <td>cellular</td>\n",
       "      <td>14</td>\n",
       "      <td>aug</td>\n",
       "      <td>211</td>\n",
       "      <td>2</td>\n",
       "      <td>106</td>\n",
       "      <td>2</td>\n",
       "      <td>success</td>\n",
       "      <td>yes</td>\n",
       "    </tr>\n",
       "    <tr>\n",
       "      <th>4</th>\n",
       "      <td>26.0</td>\n",
       "      <td>admin.</td>\n",
       "      <td>single</td>\n",
       "      <td>secondary</td>\n",
       "      <td>no</td>\n",
       "      <td>258.0</td>\n",
       "      <td>no</td>\n",
       "      <td>no</td>\n",
       "      <td>cellular</td>\n",
       "      <td>14</td>\n",
       "      <td>aug</td>\n",
       "      <td>212</td>\n",
       "      <td>2</td>\n",
       "      <td>106</td>\n",
       "      <td>2</td>\n",
       "      <td>success</td>\n",
       "      <td>yes</td>\n",
       "    </tr>\n",
       "    <tr>\n",
       "      <th>...</th>\n",
       "      <td>...</td>\n",
       "      <td>...</td>\n",
       "      <td>...</td>\n",
       "      <td>...</td>\n",
       "      <td>...</td>\n",
       "      <td>...</td>\n",
       "      <td>...</td>\n",
       "      <td>...</td>\n",
       "      <td>...</td>\n",
       "      <td>...</td>\n",
       "      <td>...</td>\n",
       "      <td>...</td>\n",
       "      <td>...</td>\n",
       "      <td>...</td>\n",
       "      <td>...</td>\n",
       "      <td>...</td>\n",
       "      <td>...</td>\n",
       "    </tr>\n",
       "    <tr>\n",
       "      <th>66019</th>\n",
       "      <td>-1.0</td>\n",
       "      <td>technician</td>\n",
       "      <td>single</td>\n",
       "      <td>secondary</td>\n",
       "      <td>no</td>\n",
       "      <td>505.0</td>\n",
       "      <td>no</td>\n",
       "      <td>yes</td>\n",
       "      <td>cellular</td>\n",
       "      <td>17</td>\n",
       "      <td>nov</td>\n",
       "      <td>386</td>\n",
       "      <td>2</td>\n",
       "      <td>-1</td>\n",
       "      <td>0</td>\n",
       "      <td>unknown</td>\n",
       "      <td>yes</td>\n",
       "    </tr>\n",
       "    <tr>\n",
       "      <th>66020</th>\n",
       "      <td>71.0</td>\n",
       "      <td>retired</td>\n",
       "      <td>divorced</td>\n",
       "      <td>primary</td>\n",
       "      <td>no</td>\n",
       "      <td>1729.0</td>\n",
       "      <td>no</td>\n",
       "      <td>no</td>\n",
       "      <td>cellular</td>\n",
       "      <td>17</td>\n",
       "      <td>nov</td>\n",
       "      <td>456</td>\n",
       "      <td>2</td>\n",
       "      <td>-1</td>\n",
       "      <td>0</td>\n",
       "      <td>unknown</td>\n",
       "      <td>yes</td>\n",
       "    </tr>\n",
       "    <tr>\n",
       "      <th>66021</th>\n",
       "      <td>72.0</td>\n",
       "      <td>retired</td>\n",
       "      <td>married</td>\n",
       "      <td>secondary</td>\n",
       "      <td>no</td>\n",
       "      <td>5715.0</td>\n",
       "      <td>no</td>\n",
       "      <td>no</td>\n",
       "      <td>cellular</td>\n",
       "      <td>17</td>\n",
       "      <td>nov</td>\n",
       "      <td>1127</td>\n",
       "      <td>5</td>\n",
       "      <td>184</td>\n",
       "      <td>3</td>\n",
       "      <td>success</td>\n",
       "      <td>yes</td>\n",
       "    </tr>\n",
       "    <tr>\n",
       "      <th>66022</th>\n",
       "      <td>57.0</td>\n",
       "      <td>blue-collar</td>\n",
       "      <td>married</td>\n",
       "      <td>secondary</td>\n",
       "      <td>no</td>\n",
       "      <td>668.0</td>\n",
       "      <td>no</td>\n",
       "      <td>no</td>\n",
       "      <td>telephone</td>\n",
       "      <td>17</td>\n",
       "      <td>nov</td>\n",
       "      <td>508</td>\n",
       "      <td>4</td>\n",
       "      <td>-1</td>\n",
       "      <td>0</td>\n",
       "      <td>unknown</td>\n",
       "      <td>no</td>\n",
       "    </tr>\n",
       "    <tr>\n",
       "      <th>66023</th>\n",
       "      <td>37.0</td>\n",
       "      <td>entrepreneur</td>\n",
       "      <td>married</td>\n",
       "      <td>secondary</td>\n",
       "      <td>no</td>\n",
       "      <td>2971.0</td>\n",
       "      <td>no</td>\n",
       "      <td>no</td>\n",
       "      <td>cellular</td>\n",
       "      <td>17</td>\n",
       "      <td>nov</td>\n",
       "      <td>361</td>\n",
       "      <td>2</td>\n",
       "      <td>188</td>\n",
       "      <td>11</td>\n",
       "      <td>other</td>\n",
       "      <td>no</td>\n",
       "    </tr>\n",
       "  </tbody>\n",
       "</table>\n",
       "<p>66024 rows × 17 columns</p>\n",
       "</div>"
      ],
      "text/plain": [
       "        age           job   marital  education default  balance housing loan  \\\n",
       "0      47.0    management   married   tertiary      no   2351.0      no   no   \n",
       "1      26.0        admin.    single  secondary      no    255.0      no   no   \n",
       "2      26.0        admin.    single  secondary      no    256.0      no   no   \n",
       "3      26.0        admin.    single  secondary      no    257.0      no   no   \n",
       "4      26.0        admin.    single  secondary      no    258.0      no   no   \n",
       "...     ...           ...       ...        ...     ...      ...     ...  ...   \n",
       "66019  -1.0    technician    single  secondary      no    505.0      no  yes   \n",
       "66020  71.0       retired  divorced    primary      no   1729.0      no   no   \n",
       "66021  72.0       retired   married  secondary      no   5715.0      no   no   \n",
       "66022  57.0   blue-collar   married  secondary      no    668.0      no   no   \n",
       "66023  37.0  entrepreneur   married  secondary      no   2971.0      no   no   \n",
       "\n",
       "         contact  day month  duration  campaign  pdays  previous poutcome    y  \n",
       "0       cellular    2   jun       163         2     84         1  success  yes  \n",
       "1       cellular   14   aug       209         2    106         2  success  yes  \n",
       "2       cellular   14   aug       210         2    106         2  success  yes  \n",
       "3       cellular   14   aug       211         2    106         2  success  yes  \n",
       "4       cellular   14   aug       212         2    106         2  success  yes  \n",
       "...          ...  ...   ...       ...       ...    ...       ...      ...  ...  \n",
       "66019   cellular   17   nov       386         2     -1         0  unknown  yes  \n",
       "66020   cellular   17   nov       456         2     -1         0  unknown  yes  \n",
       "66021   cellular   17   nov      1127         5    184         3  success  yes  \n",
       "66022  telephone   17   nov       508         4     -1         0  unknown   no  \n",
       "66023   cellular   17   nov       361         2    188        11    other   no  \n",
       "\n",
       "[66024 rows x 17 columns]"
      ]
     },
     "execution_count": 9,
     "metadata": {},
     "output_type": "execute_result"
    }
   ],
   "source": [
    "df = read_dataset(\"Term_Deposit1.csv\")\n",
    "df"
   ]
  },
  {
   "cell_type": "code",
   "execution_count": 10,
   "metadata": {},
   "outputs": [
    {
     "data": {
      "text/plain": [
       "Index(['job', 'marital', 'education', 'default', 'housing', 'loan', 'contact',\n",
       "       'month', 'poutcome', 'y'],\n",
       "      dtype='object')"
      ]
     },
     "execution_count": 10,
     "metadata": {},
     "output_type": "execute_result"
    }
   ],
   "source": [
    "df_object_columns = df.iloc[:, :].select_dtypes(include=['object']).columns\n",
    "df_object_columns"
   ]
  },
  {
   "cell_type": "code",
   "execution_count": 11,
   "metadata": {},
   "outputs": [],
   "source": [
    "df_object_columns_removed = df.drop(df_object_columns,axis=1)"
   ]
  },
  {
   "cell_type": "code",
   "execution_count": 12,
   "metadata": {},
   "outputs": [
    {
     "data": {
      "text/html": [
       "<div>\n",
       "<style scoped>\n",
       "    .dataframe tbody tr th:only-of-type {\n",
       "        vertical-align: middle;\n",
       "    }\n",
       "\n",
       "    .dataframe tbody tr th {\n",
       "        vertical-align: top;\n",
       "    }\n",
       "\n",
       "    .dataframe thead th {\n",
       "        text-align: right;\n",
       "    }\n",
       "</style>\n",
       "<table border=\"1\" class=\"dataframe\">\n",
       "  <thead>\n",
       "    <tr style=\"text-align: right;\">\n",
       "      <th></th>\n",
       "      <th>age</th>\n",
       "      <th>balance</th>\n",
       "      <th>day</th>\n",
       "      <th>duration</th>\n",
       "      <th>campaign</th>\n",
       "      <th>pdays</th>\n",
       "      <th>previous</th>\n",
       "    </tr>\n",
       "  </thead>\n",
       "  <tbody>\n",
       "    <tr>\n",
       "      <th>0</th>\n",
       "      <td>47.0</td>\n",
       "      <td>2351.0</td>\n",
       "      <td>2</td>\n",
       "      <td>163</td>\n",
       "      <td>2</td>\n",
       "      <td>84</td>\n",
       "      <td>1</td>\n",
       "    </tr>\n",
       "    <tr>\n",
       "      <th>1</th>\n",
       "      <td>26.0</td>\n",
       "      <td>255.0</td>\n",
       "      <td>14</td>\n",
       "      <td>209</td>\n",
       "      <td>2</td>\n",
       "      <td>106</td>\n",
       "      <td>2</td>\n",
       "    </tr>\n",
       "    <tr>\n",
       "      <th>2</th>\n",
       "      <td>26.0</td>\n",
       "      <td>256.0</td>\n",
       "      <td>14</td>\n",
       "      <td>210</td>\n",
       "      <td>2</td>\n",
       "      <td>106</td>\n",
       "      <td>2</td>\n",
       "    </tr>\n",
       "    <tr>\n",
       "      <th>3</th>\n",
       "      <td>26.0</td>\n",
       "      <td>257.0</td>\n",
       "      <td>14</td>\n",
       "      <td>211</td>\n",
       "      <td>2</td>\n",
       "      <td>106</td>\n",
       "      <td>2</td>\n",
       "    </tr>\n",
       "    <tr>\n",
       "      <th>4</th>\n",
       "      <td>26.0</td>\n",
       "      <td>258.0</td>\n",
       "      <td>14</td>\n",
       "      <td>212</td>\n",
       "      <td>2</td>\n",
       "      <td>106</td>\n",
       "      <td>2</td>\n",
       "    </tr>\n",
       "    <tr>\n",
       "      <th>...</th>\n",
       "      <td>...</td>\n",
       "      <td>...</td>\n",
       "      <td>...</td>\n",
       "      <td>...</td>\n",
       "      <td>...</td>\n",
       "      <td>...</td>\n",
       "      <td>...</td>\n",
       "    </tr>\n",
       "    <tr>\n",
       "      <th>66019</th>\n",
       "      <td>-1.0</td>\n",
       "      <td>505.0</td>\n",
       "      <td>17</td>\n",
       "      <td>386</td>\n",
       "      <td>2</td>\n",
       "      <td>-1</td>\n",
       "      <td>0</td>\n",
       "    </tr>\n",
       "    <tr>\n",
       "      <th>66020</th>\n",
       "      <td>71.0</td>\n",
       "      <td>1729.0</td>\n",
       "      <td>17</td>\n",
       "      <td>456</td>\n",
       "      <td>2</td>\n",
       "      <td>-1</td>\n",
       "      <td>0</td>\n",
       "    </tr>\n",
       "    <tr>\n",
       "      <th>66021</th>\n",
       "      <td>72.0</td>\n",
       "      <td>5715.0</td>\n",
       "      <td>17</td>\n",
       "      <td>1127</td>\n",
       "      <td>5</td>\n",
       "      <td>184</td>\n",
       "      <td>3</td>\n",
       "    </tr>\n",
       "    <tr>\n",
       "      <th>66022</th>\n",
       "      <td>57.0</td>\n",
       "      <td>668.0</td>\n",
       "      <td>17</td>\n",
       "      <td>508</td>\n",
       "      <td>4</td>\n",
       "      <td>-1</td>\n",
       "      <td>0</td>\n",
       "    </tr>\n",
       "    <tr>\n",
       "      <th>66023</th>\n",
       "      <td>37.0</td>\n",
       "      <td>2971.0</td>\n",
       "      <td>17</td>\n",
       "      <td>361</td>\n",
       "      <td>2</td>\n",
       "      <td>188</td>\n",
       "      <td>11</td>\n",
       "    </tr>\n",
       "  </tbody>\n",
       "</table>\n",
       "<p>66024 rows × 7 columns</p>\n",
       "</div>"
      ],
      "text/plain": [
       "        age  balance  day  duration  campaign  pdays  previous\n",
       "0      47.0   2351.0    2       163         2     84         1\n",
       "1      26.0    255.0   14       209         2    106         2\n",
       "2      26.0    256.0   14       210         2    106         2\n",
       "3      26.0    257.0   14       211         2    106         2\n",
       "4      26.0    258.0   14       212         2    106         2\n",
       "...     ...      ...  ...       ...       ...    ...       ...\n",
       "66019  -1.0    505.0   17       386         2     -1         0\n",
       "66020  71.0   1729.0   17       456         2     -1         0\n",
       "66021  72.0   5715.0   17      1127         5    184         3\n",
       "66022  57.0    668.0   17       508         4     -1         0\n",
       "66023  37.0   2971.0   17       361         2    188        11\n",
       "\n",
       "[66024 rows x 7 columns]"
      ]
     },
     "execution_count": 12,
     "metadata": {},
     "output_type": "execute_result"
    }
   ],
   "source": [
    "df_object_columns_removed"
   ]
  },
  {
   "cell_type": "code",
   "execution_count": 13,
   "metadata": {},
   "outputs": [],
   "source": [
    "from sklearn.preprocessing import LabelEncoder\n",
    "df_le = df[df_object_columns]\n",
    "df_le = df_le.apply(LabelEncoder().fit_transform)"
   ]
  },
  {
   "cell_type": "code",
   "execution_count": 14,
   "metadata": {},
   "outputs": [
    {
     "data": {
      "text/html": [
       "<div>\n",
       "<style scoped>\n",
       "    .dataframe tbody tr th:only-of-type {\n",
       "        vertical-align: middle;\n",
       "    }\n",
       "\n",
       "    .dataframe tbody tr th {\n",
       "        vertical-align: top;\n",
       "    }\n",
       "\n",
       "    .dataframe thead th {\n",
       "        text-align: right;\n",
       "    }\n",
       "</style>\n",
       "<table border=\"1\" class=\"dataframe\">\n",
       "  <thead>\n",
       "    <tr style=\"text-align: right;\">\n",
       "      <th></th>\n",
       "      <th>age</th>\n",
       "      <th>balance</th>\n",
       "      <th>day</th>\n",
       "      <th>duration</th>\n",
       "      <th>campaign</th>\n",
       "      <th>pdays</th>\n",
       "      <th>previous</th>\n",
       "      <th>job</th>\n",
       "      <th>marital</th>\n",
       "      <th>education</th>\n",
       "      <th>default</th>\n",
       "      <th>housing</th>\n",
       "      <th>loan</th>\n",
       "      <th>contact</th>\n",
       "      <th>month</th>\n",
       "      <th>poutcome</th>\n",
       "      <th>y</th>\n",
       "    </tr>\n",
       "  </thead>\n",
       "  <tbody>\n",
       "    <tr>\n",
       "      <th>0</th>\n",
       "      <td>47.0</td>\n",
       "      <td>2351.0</td>\n",
       "      <td>2</td>\n",
       "      <td>163</td>\n",
       "      <td>2</td>\n",
       "      <td>84</td>\n",
       "      <td>1</td>\n",
       "      <td>4</td>\n",
       "      <td>1</td>\n",
       "      <td>2</td>\n",
       "      <td>0</td>\n",
       "      <td>0</td>\n",
       "      <td>0</td>\n",
       "      <td>0</td>\n",
       "      <td>6</td>\n",
       "      <td>2</td>\n",
       "      <td>1</td>\n",
       "    </tr>\n",
       "    <tr>\n",
       "      <th>1</th>\n",
       "      <td>26.0</td>\n",
       "      <td>255.0</td>\n",
       "      <td>14</td>\n",
       "      <td>209</td>\n",
       "      <td>2</td>\n",
       "      <td>106</td>\n",
       "      <td>2</td>\n",
       "      <td>0</td>\n",
       "      <td>2</td>\n",
       "      <td>1</td>\n",
       "      <td>0</td>\n",
       "      <td>0</td>\n",
       "      <td>0</td>\n",
       "      <td>0</td>\n",
       "      <td>1</td>\n",
       "      <td>2</td>\n",
       "      <td>1</td>\n",
       "    </tr>\n",
       "    <tr>\n",
       "      <th>2</th>\n",
       "      <td>26.0</td>\n",
       "      <td>256.0</td>\n",
       "      <td>14</td>\n",
       "      <td>210</td>\n",
       "      <td>2</td>\n",
       "      <td>106</td>\n",
       "      <td>2</td>\n",
       "      <td>0</td>\n",
       "      <td>2</td>\n",
       "      <td>1</td>\n",
       "      <td>0</td>\n",
       "      <td>0</td>\n",
       "      <td>0</td>\n",
       "      <td>0</td>\n",
       "      <td>1</td>\n",
       "      <td>2</td>\n",
       "      <td>1</td>\n",
       "    </tr>\n",
       "    <tr>\n",
       "      <th>3</th>\n",
       "      <td>26.0</td>\n",
       "      <td>257.0</td>\n",
       "      <td>14</td>\n",
       "      <td>211</td>\n",
       "      <td>2</td>\n",
       "      <td>106</td>\n",
       "      <td>2</td>\n",
       "      <td>0</td>\n",
       "      <td>2</td>\n",
       "      <td>1</td>\n",
       "      <td>0</td>\n",
       "      <td>0</td>\n",
       "      <td>0</td>\n",
       "      <td>0</td>\n",
       "      <td>1</td>\n",
       "      <td>2</td>\n",
       "      <td>1</td>\n",
       "    </tr>\n",
       "    <tr>\n",
       "      <th>4</th>\n",
       "      <td>26.0</td>\n",
       "      <td>258.0</td>\n",
       "      <td>14</td>\n",
       "      <td>212</td>\n",
       "      <td>2</td>\n",
       "      <td>106</td>\n",
       "      <td>2</td>\n",
       "      <td>0</td>\n",
       "      <td>2</td>\n",
       "      <td>1</td>\n",
       "      <td>0</td>\n",
       "      <td>0</td>\n",
       "      <td>0</td>\n",
       "      <td>0</td>\n",
       "      <td>1</td>\n",
       "      <td>2</td>\n",
       "      <td>1</td>\n",
       "    </tr>\n",
       "    <tr>\n",
       "      <th>...</th>\n",
       "      <td>...</td>\n",
       "      <td>...</td>\n",
       "      <td>...</td>\n",
       "      <td>...</td>\n",
       "      <td>...</td>\n",
       "      <td>...</td>\n",
       "      <td>...</td>\n",
       "      <td>...</td>\n",
       "      <td>...</td>\n",
       "      <td>...</td>\n",
       "      <td>...</td>\n",
       "      <td>...</td>\n",
       "      <td>...</td>\n",
       "      <td>...</td>\n",
       "      <td>...</td>\n",
       "      <td>...</td>\n",
       "      <td>...</td>\n",
       "    </tr>\n",
       "    <tr>\n",
       "      <th>66019</th>\n",
       "      <td>-1.0</td>\n",
       "      <td>505.0</td>\n",
       "      <td>17</td>\n",
       "      <td>386</td>\n",
       "      <td>2</td>\n",
       "      <td>-1</td>\n",
       "      <td>0</td>\n",
       "      <td>9</td>\n",
       "      <td>2</td>\n",
       "      <td>1</td>\n",
       "      <td>0</td>\n",
       "      <td>0</td>\n",
       "      <td>1</td>\n",
       "      <td>0</td>\n",
       "      <td>9</td>\n",
       "      <td>3</td>\n",
       "      <td>1</td>\n",
       "    </tr>\n",
       "    <tr>\n",
       "      <th>66020</th>\n",
       "      <td>71.0</td>\n",
       "      <td>1729.0</td>\n",
       "      <td>17</td>\n",
       "      <td>456</td>\n",
       "      <td>2</td>\n",
       "      <td>-1</td>\n",
       "      <td>0</td>\n",
       "      <td>5</td>\n",
       "      <td>0</td>\n",
       "      <td>0</td>\n",
       "      <td>0</td>\n",
       "      <td>0</td>\n",
       "      <td>0</td>\n",
       "      <td>0</td>\n",
       "      <td>9</td>\n",
       "      <td>3</td>\n",
       "      <td>1</td>\n",
       "    </tr>\n",
       "    <tr>\n",
       "      <th>66021</th>\n",
       "      <td>72.0</td>\n",
       "      <td>5715.0</td>\n",
       "      <td>17</td>\n",
       "      <td>1127</td>\n",
       "      <td>5</td>\n",
       "      <td>184</td>\n",
       "      <td>3</td>\n",
       "      <td>5</td>\n",
       "      <td>1</td>\n",
       "      <td>1</td>\n",
       "      <td>0</td>\n",
       "      <td>0</td>\n",
       "      <td>0</td>\n",
       "      <td>0</td>\n",
       "      <td>9</td>\n",
       "      <td>2</td>\n",
       "      <td>1</td>\n",
       "    </tr>\n",
       "    <tr>\n",
       "      <th>66022</th>\n",
       "      <td>57.0</td>\n",
       "      <td>668.0</td>\n",
       "      <td>17</td>\n",
       "      <td>508</td>\n",
       "      <td>4</td>\n",
       "      <td>-1</td>\n",
       "      <td>0</td>\n",
       "      <td>1</td>\n",
       "      <td>1</td>\n",
       "      <td>1</td>\n",
       "      <td>0</td>\n",
       "      <td>0</td>\n",
       "      <td>0</td>\n",
       "      <td>1</td>\n",
       "      <td>9</td>\n",
       "      <td>3</td>\n",
       "      <td>0</td>\n",
       "    </tr>\n",
       "    <tr>\n",
       "      <th>66023</th>\n",
       "      <td>37.0</td>\n",
       "      <td>2971.0</td>\n",
       "      <td>17</td>\n",
       "      <td>361</td>\n",
       "      <td>2</td>\n",
       "      <td>188</td>\n",
       "      <td>11</td>\n",
       "      <td>2</td>\n",
       "      <td>1</td>\n",
       "      <td>1</td>\n",
       "      <td>0</td>\n",
       "      <td>0</td>\n",
       "      <td>0</td>\n",
       "      <td>0</td>\n",
       "      <td>9</td>\n",
       "      <td>1</td>\n",
       "      <td>0</td>\n",
       "    </tr>\n",
       "  </tbody>\n",
       "</table>\n",
       "<p>66024 rows × 17 columns</p>\n",
       "</div>"
      ],
      "text/plain": [
       "        age  balance  day  duration  campaign  pdays  previous  job  marital  \\\n",
       "0      47.0   2351.0    2       163         2     84         1    4        1   \n",
       "1      26.0    255.0   14       209         2    106         2    0        2   \n",
       "2      26.0    256.0   14       210         2    106         2    0        2   \n",
       "3      26.0    257.0   14       211         2    106         2    0        2   \n",
       "4      26.0    258.0   14       212         2    106         2    0        2   \n",
       "...     ...      ...  ...       ...       ...    ...       ...  ...      ...   \n",
       "66019  -1.0    505.0   17       386         2     -1         0    9        2   \n",
       "66020  71.0   1729.0   17       456         2     -1         0    5        0   \n",
       "66021  72.0   5715.0   17      1127         5    184         3    5        1   \n",
       "66022  57.0    668.0   17       508         4     -1         0    1        1   \n",
       "66023  37.0   2971.0   17       361         2    188        11    2        1   \n",
       "\n",
       "       education  default  housing  loan  contact  month  poutcome  y  \n",
       "0              2        0        0     0        0      6         2  1  \n",
       "1              1        0        0     0        0      1         2  1  \n",
       "2              1        0        0     0        0      1         2  1  \n",
       "3              1        0        0     0        0      1         2  1  \n",
       "4              1        0        0     0        0      1         2  1  \n",
       "...          ...      ...      ...   ...      ...    ...       ... ..  \n",
       "66019          1        0        0     1        0      9         3  1  \n",
       "66020          0        0        0     0        0      9         3  1  \n",
       "66021          1        0        0     0        0      9         2  1  \n",
       "66022          1        0        0     0        1      9         3  0  \n",
       "66023          1        0        0     0        0      9         1  0  \n",
       "\n",
       "[66024 rows x 17 columns]"
      ]
     },
     "execution_count": 14,
     "metadata": {},
     "output_type": "execute_result"
    }
   ],
   "source": [
    "horizontal_stack = pd.concat([df_object_columns_removed, df_le], axis=1)\n",
    "horizontal_stack"
   ]
  },
  {
   "cell_type": "markdown",
   "metadata": {
    "id": "cIlRvBHkrBCa"
   },
   "source": [
    "This is a dataset used to predict whether customers want to deposit long-term money with the bank\n",
    "age:\tAge of the client (numeric)\n",
    "\n",
    "job:\tType of job (categorical)\n",
    "\n",
    "marital:\tMarital status of the client (categorical)\n",
    "\n",
    "education:\tEducation level (categorical)\n",
    "\n",
    "default:\tCredit in default (categorical)\n",
    "\n",
    "balance:\taverage yearly balance (categorical)\n",
    "\n",
    "housing:\tHousing loan (categorical)\n",
    "\n",
    "loan:\tPersonal loan (categorical)\n",
    "\n",
    "contact:\tType of communication (categorical)\n",
    "\n",
    "month:\tContact month (categorical)\n",
    "\n",
    "dayofweek:\tDay of week of contact (categorical)\n",
    "\n",
    "duration:\tContact duration (numeric)\n",
    "\n",
    "campaign:\tnumber of contacts performed during this campaign to the client\n",
    "\n",
    "pdays:\tnumber of days that passed by after the client was last contacted\n",
    "\n",
    "previous:\tnumber of contacts performed before this campaign\n",
    "\n",
    "poutcome:\toutcome of the previous marketing campaign\n",
    "\n",
    "y: (target)\thas the client subscribed a term deposit?"
   ]
  },
  {
   "cell_type": "code",
   "execution_count": 15,
   "metadata": {
    "ExecuteTime": {
     "end_time": "2023-04-08T18:12:33.762378Z",
     "start_time": "2023-04-08T18:12:33.666273Z"
    },
    "colab": {
     "base_uri": "https://localhost:8080/"
    },
    "executionInfo": {
     "elapsed": 612,
     "status": "ok",
     "timestamp": 1657046126715,
     "user": {
      "displayName": "Sơn Huỳnh Thanh",
      "userId": "12358216226509522886"
     },
     "user_tz": -420
    },
    "id": "K521myciE6Ts",
    "outputId": "3b7d018e-09ee-42f1-9559-d9ded7760363"
   },
   "outputs": [
    {
     "name": "stdout",
     "output_type": "stream",
     "text": [
      "<class 'pandas.core.frame.DataFrame'>\n",
      "RangeIndex: 66024 entries, 0 to 66023\n",
      "Data columns (total 17 columns):\n",
      " #   Column     Non-Null Count  Dtype  \n",
      "---  ------     --------------  -----  \n",
      " 0   age        66024 non-null  float64\n",
      " 1   job        66024 non-null  object \n",
      " 2   marital    66024 non-null  object \n",
      " 3   education  66024 non-null  object \n",
      " 4   default    66024 non-null  object \n",
      " 5   balance    66024 non-null  float64\n",
      " 6   housing    66024 non-null  object \n",
      " 7   loan       66024 non-null  object \n",
      " 8   contact    66024 non-null  object \n",
      " 9   day        66024 non-null  int64  \n",
      " 10  month      66024 non-null  object \n",
      " 11  duration   66024 non-null  int64  \n",
      " 12  campaign   66024 non-null  int64  \n",
      " 13  pdays      66024 non-null  int64  \n",
      " 14  previous   66024 non-null  int64  \n",
      " 15  poutcome   66024 non-null  object \n",
      " 16  y          66024 non-null  object \n",
      "dtypes: float64(2), int64(5), object(10)\n",
      "memory usage: 8.6+ MB\n"
     ]
    }
   ],
   "source": [
    "#các thông tin của từng feature\n",
    "df.info()"
   ]
  },
  {
   "cell_type": "code",
   "execution_count": 16,
   "metadata": {
    "ExecuteTime": {
     "end_time": "2023-04-08T18:12:34.353632Z",
     "start_time": "2023-04-08T18:12:34.152298Z"
    },
    "colab": {
     "base_uri": "https://localhost:8080/"
    },
    "executionInfo": {
     "elapsed": 575,
     "status": "ok",
     "timestamp": 1657046127659,
     "user": {
      "displayName": "Sơn Huỳnh Thanh",
      "userId": "12358216226509522886"
     },
     "user_tz": -420
    },
    "id": "UXozBvgefXGE",
    "outputId": "3bd71c62-af76-44e6-99cf-d8068e2d3745"
   },
   "outputs": [
    {
     "name": "stdout",
     "output_type": "stream",
     "text": [
      "Quantitative columns \n",
      "\n",
      "                age        balance           day      duration      campaign  \\\n",
      "count  66024.000000   66024.000000  66024.000000  66024.000000  66024.000000   \n",
      "mean      41.293893    1528.499137     15.697186    408.975221      2.504801   \n",
      "std       12.431010    3201.683875      8.536963    418.539701      2.706804   \n",
      "min       -1.000000   -8019.000000      1.000000      0.000000      1.000000   \n",
      "25%       32.000000     123.000000      8.000000    133.000000      1.000000   \n",
      "50%       39.000000     551.000000     16.000000    252.000000      2.000000   \n",
      "75%       49.000000    1676.000000     22.000000    525.000000      3.000000   \n",
      "max      999.000000  102127.000000     31.000000   4918.000000     63.000000   \n",
      "\n",
      "              pdays      previous  \n",
      "count  66024.000000  66024.000000  \n",
      "mean      56.840679      0.960272  \n",
      "std      105.404425      2.439411  \n",
      "min       -1.000000      0.000000  \n",
      "25%       -1.000000      0.000000  \n",
      "50%       -1.000000      0.000000  \n",
      "75%       92.000000      1.000000  \n",
      "max      871.000000    275.000000  \n",
      "\n",
      "Qualitative and Quantitative columns \n",
      "\n",
      "                 age         job  marital  education default        balance  \\\n",
      "count   66024.000000       66024    66024      66024   66024   66024.000000   \n",
      "unique           NaN          12        3          4       2            NaN   \n",
      "top              NaN  management  married  secondary      no            NaN   \n",
      "freq             NaN       14663    37052      32395   65134            NaN   \n",
      "mean       41.293893         NaN      NaN        NaN     NaN    1528.499137   \n",
      "std        12.431010         NaN      NaN        NaN     NaN    3201.683875   \n",
      "min        -1.000000         NaN      NaN        NaN     NaN   -8019.000000   \n",
      "25%        32.000000         NaN      NaN        NaN     NaN     123.000000   \n",
      "50%        39.000000         NaN      NaN        NaN     NaN     551.000000   \n",
      "75%        49.000000         NaN      NaN        NaN     NaN    1676.000000   \n",
      "max       999.000000         NaN      NaN        NaN     NaN  102127.000000   \n",
      "\n",
      "       housing   loan   contact  month poutcome      y  \n",
      "count    66024  66024     66024  66024    66024  66024  \n",
      "unique       2      2         3     12        4      2  \n",
      "top         no     no  cellular    may  unknown     no  \n",
      "freq     35128  57452     47373  16757    46068  39911  \n",
      "mean       NaN    NaN       NaN    NaN      NaN    NaN  \n",
      "std        NaN    NaN       NaN    NaN      NaN    NaN  \n",
      "min        NaN    NaN       NaN    NaN      NaN    NaN  \n",
      "25%        NaN    NaN       NaN    NaN      NaN    NaN  \n",
      "50%        NaN    NaN       NaN    NaN      NaN    NaN  \n",
      "75%        NaN    NaN       NaN    NaN      NaN    NaN  \n",
      "max        NaN    NaN       NaN    NaN      NaN    NaN  \n"
     ]
    }
   ],
   "source": [
    "print(\"Quantitative columns \\n\")\n",
    "print(df.describe())\n",
    "print()\n",
    "print(\"Qualitative and Quantitative columns \\n\")\n",
    "print(df.describe(include=[object, float]))"
   ]
  },
  {
   "cell_type": "markdown",
   "metadata": {
    "id": "woDjKByzg5lN"
   },
   "source": [
    "# Exploratory Data Analysis"
   ]
  },
  {
   "cell_type": "code",
   "execution_count": 17,
   "metadata": {
    "ExecuteTime": {
     "end_time": "2023-04-08T18:12:35.520330Z",
     "start_time": "2023-04-08T18:12:35.314908Z"
    },
    "colab": {
     "base_uri": "https://localhost:8080/"
    },
    "executionInfo": {
     "elapsed": 377,
     "status": "ok",
     "timestamp": 1657043967244,
     "user": {
      "displayName": "Sơn Huỳnh Thanh",
      "userId": "12358216226509522886"
     },
     "user_tz": -420
    },
    "id": "7Dk-jNH3FoB-",
    "outputId": "a0e0d85e-bbd8-4023-abdf-a2364fcb2825"
   },
   "outputs": [
    {
     "name": "stdout",
     "output_type": "stream",
     "text": [
      "Continous Columns\n",
      "Index(['age', 'balance', 'day', 'duration', 'campaign', 'pdays', 'previous'], dtype='object')\n",
      "Categorical Columns\n",
      "Index(['job', 'marital', 'education', 'default', 'housing', 'loan', 'contact',\n",
      "       'month', 'poutcome', 'y'],\n",
      "      dtype='object')\n"
     ]
    }
   ],
   "source": [
    "print(\"Continous Columns\")\n",
    "continous_columns = df.describe().columns\n",
    "print(continous_columns)\n",
    "\n",
    "print(\"Categorical Columns\")\n",
    "categorical_columns = df.describe(include=[object]).columns\n",
    "print(categorical_columns)"
   ]
  },
  {
   "cell_type": "code",
   "execution_count": 18,
   "metadata": {
    "ExecuteTime": {
     "end_time": "2023-04-08T18:12:40.592342Z",
     "start_time": "2023-04-08T18:12:36.064183Z"
    },
    "colab": {
     "base_uri": "https://localhost:8080/",
     "height": 786
    },
    "executionInfo": {
     "elapsed": 1560,
     "status": "ok",
     "timestamp": 1657043968802,
     "user": {
      "displayName": "Sơn Huỳnh Thanh",
      "userId": "12358216226509522886"
     },
     "user_tz": -420
    },
    "id": "IpUhIyLZHS9E",
    "outputId": "e78a9af3-045a-42c8-b2a3-e5dda4772eac"
   },
   "outputs": [
    {
     "data": {
      "text/plain": [
       "array([[<AxesSubplot:title={'center':'age'}>,\n",
       "        <AxesSubplot:title={'center':'balance'}>,\n",
       "        <AxesSubplot:title={'center':'day'}>],\n",
       "       [<AxesSubplot:title={'center':'duration'}>,\n",
       "        <AxesSubplot:title={'center':'campaign'}>,\n",
       "        <AxesSubplot:title={'center':'pdays'}>],\n",
       "       [<AxesSubplot:title={'center':'previous'}>, <AxesSubplot:>,\n",
       "        <AxesSubplot:>]], dtype=object)"
      ]
     },
     "execution_count": 18,
     "metadata": {},
     "output_type": "execute_result"
    },
    {
     "data": {
      "image/png": "[encoded data removed]",
      "text/plain": [
       "<Figure size 720x720 with 9 Axes>"
      ]
     },
     "metadata": {
      "needs_background": "light"
     },
     "output_type": "display_data"
    }
   ],
   "source": [
    "df.hist(column=continous_columns, figsize=(10, 10))\n",
    "# column chính là các feature mà ta muốn vẽ, figsize là kích thước của hình vẽ với giá trị đầu là chiều dài, và giá trị thứ hai là chiều rộng của hình vẽ"
   ]
  },
  {
   "cell_type": "code",
   "execution_count": 19,
   "metadata": {
    "ExecuteTime": {
     "end_time": "2023-04-08T18:12:45.229301Z",
     "start_time": "2023-04-08T18:12:40.596263Z"
    },
    "colab": {
     "base_uri": "https://localhost:8080/",
     "height": 297
    },
    "executionInfo": {
     "elapsed": 2413,
     "status": "ok",
     "timestamp": 1657043971211,
     "user": {
      "displayName": "Sơn Huỳnh Thanh",
      "userId": "12358216226509522886"
     },
     "user_tz": -420
    },
    "id": "3zCRw9rKvbUb",
    "outputId": "d4468a7e-3661-478c-ba34-bf0c736d796d"
   },
   "outputs": [
    {
     "data": {
      "text/plain": [
       "<AxesSubplot:xlabel='age', ylabel='Count'>"
      ]
     },
     "execution_count": 19,
     "metadata": {},
     "output_type": "execute_result"
    },
    {
     "data": {
      "image/png": "[encoded data removed]",
      "text/plain": [
       "<Figure size 432x288 with 1 Axes>"
      ]
     },
     "metadata": {
      "needs_background": "light"
     },
     "output_type": "display_data"
    }
   ],
   "source": [
    "#Để vẽ hist cho từng feature mà ta muốn, ta có thể làm như sau: \n",
    "sns.histplot(x=\"age\", data=df) #Nếu ta dùng x thì sẽ vẽ được hình trên trục hoành, còn dùng y thì sẽ vẽ trên trục tung\n",
    "#x hoặc y là feature mà mình muốn vẽ, data chính là dataframe mà mình muốn đứa vào"
   ]
  },
  {
   "cell_type": "code",
   "execution_count": 20,
   "metadata": {
    "ExecuteTime": {
     "end_time": "2023-04-08T18:12:46.217505Z",
     "start_time": "2023-04-08T18:12:45.221522Z"
    },
    "colab": {
     "base_uri": "https://localhost:8080/",
     "height": 297
    },
    "executionInfo": {
     "elapsed": 570,
     "status": "ok",
     "timestamp": 1657043971776,
     "user": {
      "displayName": "Sơn Huỳnh Thanh",
      "userId": "12358216226509522886"
     },
     "user_tz": -420
    },
    "id": "2VgbuakJ4Q4x",
    "outputId": "32fe8898-36f8-475a-ec30-770f6a7ba63e"
   },
   "outputs": [
    {
     "data": {
      "text/plain": [
       "<AxesSubplot:xlabel='count', ylabel='job'>"
      ]
     },
     "execution_count": 20,
     "metadata": {},
     "output_type": "execute_result"
    },
    {
     "data": {
      "image/png": "[encoded data removed]",
      "text/plain": [
       "<Figure size 432x288 with 1 Axes>"
      ]
     },
     "metadata": {
      "needs_background": "light"
     },
     "output_type": "display_data"
    }
   ],
   "source": [
    "#Để vẽ countplot cho các biến categorical ta làm như sau\n",
    "sns.countplot(y=\"job\", data=df)"
   ]
  },
  {
   "cell_type": "code",
   "execution_count": 21,
   "metadata": {
    "ExecuteTime": {
     "end_time": "2023-04-08T18:12:47.576490Z",
     "start_time": "2023-04-08T18:12:46.182994Z"
    },
    "colab": {
     "base_uri": "https://localhost:8080/",
     "height": 297
    },
    "executionInfo": {
     "elapsed": 572,
     "status": "ok",
     "timestamp": 1657043974298,
     "user": {
      "displayName": "Sơn Huỳnh Thanh",
      "userId": "12358216226509522886"
     },
     "user_tz": -420
    },
    "id": "ZidgpXMR4m1b",
    "outputId": "6667da66-cb96-46cd-87e7-3c26a4802098"
   },
   "outputs": [
    {
     "data": {
      "text/plain": [
       "<AxesSubplot:xlabel='count', ylabel='job'>"
      ]
     },
     "execution_count": 21,
     "metadata": {},
     "output_type": "execute_result"
    },
    {
     "data": {
      "image/png": "[encoded data removed]",
      "text/plain": [
       "<Figure size 432x288 with 1 Axes>"
      ]
     },
     "metadata": {
      "needs_background": "light"
     },
     "output_type": "display_data"
    }
   ],
   "source": [
    "#Để vẽ countplot có kèm theo một feature nữa có thể dùng thêm parameter hue\n",
    "sns.countplot(y=\"job\", data=df, hue=\"y\")\n",
    "#biến hue để chia các samples theo các giá trị có trong y"
   ]
  },
  {
   "cell_type": "code",
   "execution_count": 22,
   "metadata": {
    "ExecuteTime": {
     "end_time": "2023-04-08T18:12:51.300390Z",
     "start_time": "2023-04-08T18:12:47.597888Z"
    },
    "colab": {
     "base_uri": "https://localhost:8080/",
     "height": 387
    },
    "executionInfo": {
     "elapsed": 1463,
     "status": "ok",
     "timestamp": 1657043975758,
     "user": {
      "displayName": "Sơn Huỳnh Thanh",
      "userId": "12358216226509522886"
     },
     "user_tz": -420
    },
    "id": "8eG3prOs4ycU",
    "outputId": "07c6e737-7c66-4682-cbf2-8c7b684a8c5c"
   },
   "outputs": [
    {
     "data": {
      "text/plain": [
       "<seaborn.axisgrid.FacetGrid at 0x1c9c0519f40>"
      ]
     },
     "execution_count": 22,
     "metadata": {},
     "output_type": "execute_result"
    },
    {
     "data": {
      "image/png": "[encoded data removed]",
      "text/plain": [
       "<Figure size 1133.25x360 with 3 Axes>"
      ]
     },
     "metadata": {
      "needs_background": "light"
     },
     "output_type": "display_data"
    }
   ],
   "source": [
    "#Ngoài ra ta có thể dùng thêm một số features khác bằng cách sử dụng catplot\n",
    "sns.catplot(y=\"job\", data=df, hue=\"y\", col=\"marital\", kind=\"count\")\n",
    "#Ở đây ta sẽ vẽ countplot cho feature job, dùng hue theo các giá trị y, chia thêm các giá trị có trong feature marital, kind cho biết sẽ vẽ theo dạng gì"
   ]
  },
  {
   "cell_type": "code",
   "execution_count": 23,
   "metadata": {
    "ExecuteTime": {
     "end_time": "2023-04-08T18:12:51.623269Z",
     "start_time": "2023-04-08T18:12:51.318401Z"
    },
    "colab": {
     "base_uri": "https://localhost:8080/",
     "height": 279
    },
    "executionInfo": {
     "elapsed": 8,
     "status": "ok",
     "timestamp": 1657043975759,
     "user": {
      "displayName": "Sơn Huỳnh Thanh",
      "userId": "12358216226509522886"
     },
     "user_tz": -420
    },
    "id": "RQG3dc9xh3b8",
    "outputId": "57e11841-e9f8-474b-d1b3-5fa2acf5931e"
   },
   "outputs": [
    {
     "data": {
      "image/png": "[encoded data removed]",
      "text/plain": [
       "<Figure size 432x288 with 1 Axes>"
      ]
     },
     "metadata": {
      "needs_background": "light"
     },
     "output_type": "display_data"
    }
   ],
   "source": [
    "sns.countplot(x=\"y\", data=df, palette=\"bwr\") # Thống kê cột 'y'\n",
    "plt.show()"
   ]
  },
  {
   "cell_type": "code",
   "execution_count": 24,
   "metadata": {
    "ExecuteTime": {
     "end_time": "2023-04-08T18:12:52.108861Z",
     "start_time": "2023-04-08T18:12:51.623194Z"
    },
    "collapsed": false
   },
   "outputs": [
    {
     "data": {
      "text/plain": [
       "<AxesSubplot:xlabel='y', ylabel='count'>"
      ]
     },
     "execution_count": 24,
     "metadata": {},
     "output_type": "execute_result"
    },
    {
     "data": {
      "image/png": "[encoded data removed]",
      "text/plain": [
       "<Figure size 432x288 with 1 Axes>"
      ]
     },
     "metadata": {
      "needs_background": "light"
     },
     "output_type": "display_data"
    }
   ],
   "source": [
    "sns.countplot(data=df, x='y', hue='education')"
   ]
  },
  {
   "cell_type": "code",
   "execution_count": 25,
   "metadata": {
    "ExecuteTime": {
     "end_time": "2023-04-08T18:12:52.908690Z",
     "start_time": "2023-04-08T18:12:52.111162Z"
    },
    "colab": {
     "base_uri": "https://localhost:8080/",
     "height": 327
    },
    "executionInfo": {
     "elapsed": 646,
     "status": "ok",
     "timestamp": 1657043979159,
     "user": {
      "displayName": "Sơn Huỳnh Thanh",
      "userId": "12358216226509522886"
     },
     "user_tz": -420
    },
    "id": "TOv-lDLB33E6",
    "outputId": "4a0208d9-0fe5-44dd-efe2-6bb21a7e389a"
   },
   "outputs": [
    {
     "data": {
      "text/plain": [
       "<AxesSubplot:>"
      ]
     },
     "execution_count": 25,
     "metadata": {},
     "output_type": "execute_result"
    },
    {
     "data": {
      "image/png": "[encoded data removed]",
      "text/plain": [
       "<Figure size 432x288 with 2 Axes>"
      ]
     },
     "metadata": {
      "needs_background": "light"
     },
     "output_type": "display_data"
    }
   ],
   "source": [
    "sns.heatmap(df.corr())"
   ]
  },
  {
   "cell_type": "markdown",
   "metadata": {
    "id": "PALZ-kudLSK_"
   },
   "source": [
    "# Model Training"
   ]
  },
  {
   "cell_type": "code",
   "execution_count": 26,
   "metadata": {
    "ExecuteTime": {
     "end_time": "2023-04-08T18:12:53.740584Z",
     "start_time": "2023-04-08T18:12:52.912279Z"
    },
    "id": "_G1AGLDRYLmF"
   },
   "outputs": [],
   "source": [
    "from sklearn.preprocessing import LabelEncoder\n",
    "\n",
    "def apply_feature_engineering(df):\n",
    "    \"\"\"\n",
    "    Apply all feature engineering to transform your data into number\n",
    "    :param df: pandas DataFrame\n",
    "    :return: pandas DataFrame\n",
    "    \"\"\"\n",
    "    # Encode education volume as labels\n",
    "    label_encoder = LabelEncoder()\n",
    "    df.loc[:, \"education\"] = label_encoder.fit_transform(df[\"education\"]) # 0 1 2 3 4\n",
    "\n",
    "    cat_cols = [col for col in df.columns if df[col].dtypes == \"O\"] # get categorical columns\n",
    "    cat_cols.remove(\"y\") # Remove target\n",
    "    # -- Method 1: categorical features -> numberic features using get_dummies()\n",
    "    temp = pd.get_dummies(df[cat_cols])\n",
    "    df.drop(cat_cols, axis=1, inplace=True) # Remove category columns\n",
    "    df = pd.concat([df, temp], axis=1) # nối dataframe data với các giá trị dummy của feature col\n",
    "\n",
    "    return df\n"
   ]
  },
  {
   "cell_type": "code",
   "execution_count": 27,
   "metadata": {
    "ExecuteTime": {
     "end_time": "2023-04-08T18:12:53.897052Z",
     "start_time": "2023-04-08T18:12:53.746351Z"
    },
    "collapsed": false
   },
   "outputs": [
    {
     "data": {
      "text/html": [
       "<div>\n",
       "<style scoped>\n",
       "    .dataframe tbody tr th:only-of-type {\n",
       "        vertical-align: middle;\n",
       "    }\n",
       "\n",
       "    .dataframe tbody tr th {\n",
       "        vertical-align: top;\n",
       "    }\n",
       "\n",
       "    .dataframe thead th {\n",
       "        text-align: right;\n",
       "    }\n",
       "</style>\n",
       "<table border=\"1\" class=\"dataframe\">\n",
       "  <thead>\n",
       "    <tr style=\"text-align: right;\">\n",
       "      <th></th>\n",
       "      <th>age</th>\n",
       "      <th>education</th>\n",
       "      <th>balance</th>\n",
       "      <th>day</th>\n",
       "      <th>duration</th>\n",
       "      <th>campaign</th>\n",
       "      <th>pdays</th>\n",
       "      <th>previous</th>\n",
       "      <th>y</th>\n",
       "      <th>job_admin.</th>\n",
       "      <th>...</th>\n",
       "      <th>month_jun</th>\n",
       "      <th>month_mar</th>\n",
       "      <th>month_may</th>\n",
       "      <th>month_nov</th>\n",
       "      <th>month_oct</th>\n",
       "      <th>month_sep</th>\n",
       "      <th>poutcome_failure</th>\n",
       "      <th>poutcome_other</th>\n",
       "      <th>poutcome_success</th>\n",
       "      <th>poutcome_unknown</th>\n",
       "    </tr>\n",
       "  </thead>\n",
       "  <tbody>\n",
       "    <tr>\n",
       "      <th>0</th>\n",
       "      <td>47.0</td>\n",
       "      <td>2</td>\n",
       "      <td>2351.0</td>\n",
       "      <td>2</td>\n",
       "      <td>163</td>\n",
       "      <td>2</td>\n",
       "      <td>84</td>\n",
       "      <td>1</td>\n",
       "      <td>yes</td>\n",
       "      <td>0</td>\n",
       "      <td>...</td>\n",
       "      <td>1</td>\n",
       "      <td>0</td>\n",
       "      <td>0</td>\n",
       "      <td>0</td>\n",
       "      <td>0</td>\n",
       "      <td>0</td>\n",
       "      <td>0</td>\n",
       "      <td>0</td>\n",
       "      <td>1</td>\n",
       "      <td>0</td>\n",
       "    </tr>\n",
       "    <tr>\n",
       "      <th>1</th>\n",
       "      <td>26.0</td>\n",
       "      <td>1</td>\n",
       "      <td>255.0</td>\n",
       "      <td>14</td>\n",
       "      <td>209</td>\n",
       "      <td>2</td>\n",
       "      <td>106</td>\n",
       "      <td>2</td>\n",
       "      <td>yes</td>\n",
       "      <td>1</td>\n",
       "      <td>...</td>\n",
       "      <td>0</td>\n",
       "      <td>0</td>\n",
       "      <td>0</td>\n",
       "      <td>0</td>\n",
       "      <td>0</td>\n",
       "      <td>0</td>\n",
       "      <td>0</td>\n",
       "      <td>0</td>\n",
       "      <td>1</td>\n",
       "      <td>0</td>\n",
       "    </tr>\n",
       "    <tr>\n",
       "      <th>2</th>\n",
       "      <td>26.0</td>\n",
       "      <td>1</td>\n",
       "      <td>256.0</td>\n",
       "      <td>14</td>\n",
       "      <td>210</td>\n",
       "      <td>2</td>\n",
       "      <td>106</td>\n",
       "      <td>2</td>\n",
       "      <td>yes</td>\n",
       "      <td>1</td>\n",
       "      <td>...</td>\n",
       "      <td>0</td>\n",
       "      <td>0</td>\n",
       "      <td>0</td>\n",
       "      <td>0</td>\n",
       "      <td>0</td>\n",
       "      <td>0</td>\n",
       "      <td>0</td>\n",
       "      <td>0</td>\n",
       "      <td>1</td>\n",
       "      <td>0</td>\n",
       "    </tr>\n",
       "    <tr>\n",
       "      <th>3</th>\n",
       "      <td>26.0</td>\n",
       "      <td>1</td>\n",
       "      <td>257.0</td>\n",
       "      <td>14</td>\n",
       "      <td>211</td>\n",
       "      <td>2</td>\n",
       "      <td>106</td>\n",
       "      <td>2</td>\n",
       "      <td>yes</td>\n",
       "      <td>1</td>\n",
       "      <td>...</td>\n",
       "      <td>0</td>\n",
       "      <td>0</td>\n",
       "      <td>0</td>\n",
       "      <td>0</td>\n",
       "      <td>0</td>\n",
       "      <td>0</td>\n",
       "      <td>0</td>\n",
       "      <td>0</td>\n",
       "      <td>1</td>\n",
       "      <td>0</td>\n",
       "    </tr>\n",
       "    <tr>\n",
       "      <th>4</th>\n",
       "      <td>26.0</td>\n",
       "      <td>1</td>\n",
       "      <td>258.0</td>\n",
       "      <td>14</td>\n",
       "      <td>212</td>\n",
       "      <td>2</td>\n",
       "      <td>106</td>\n",
       "      <td>2</td>\n",
       "      <td>yes</td>\n",
       "      <td>1</td>\n",
       "      <td>...</td>\n",
       "      <td>0</td>\n",
       "      <td>0</td>\n",
       "      <td>0</td>\n",
       "      <td>0</td>\n",
       "      <td>0</td>\n",
       "      <td>0</td>\n",
       "      <td>0</td>\n",
       "      <td>0</td>\n",
       "      <td>1</td>\n",
       "      <td>0</td>\n",
       "    </tr>\n",
       "  </tbody>\n",
       "</table>\n",
       "<p>5 rows × 49 columns</p>\n",
       "</div>"
      ],
      "text/plain": [
       "    age  education  balance  day  duration  campaign  pdays  previous    y  \\\n",
       "0  47.0          2   2351.0    2       163         2     84         1  yes   \n",
       "1  26.0          1    255.0   14       209         2    106         2  yes   \n",
       "2  26.0          1    256.0   14       210         2    106         2  yes   \n",
       "3  26.0          1    257.0   14       211         2    106         2  yes   \n",
       "4  26.0          1    258.0   14       212         2    106         2  yes   \n",
       "\n",
       "   job_admin.  ...  month_jun  month_mar  month_may  month_nov  month_oct  \\\n",
       "0           0  ...          1          0          0          0          0   \n",
       "1           1  ...          0          0          0          0          0   \n",
       "2           1  ...          0          0          0          0          0   \n",
       "3           1  ...          0          0          0          0          0   \n",
       "4           1  ...          0          0          0          0          0   \n",
       "\n",
       "   month_sep  poutcome_failure  poutcome_other  poutcome_success  \\\n",
       "0          0                 0               0                 1   \n",
       "1          0                 0               0                 1   \n",
       "2          0                 0               0                 1   \n",
       "3          0                 0               0                 1   \n",
       "4          0                 0               0                 1   \n",
       "\n",
       "   poutcome_unknown  \n",
       "0                 0  \n",
       "1                 0  \n",
       "2                 0  \n",
       "3                 0  \n",
       "4                 0  \n",
       "\n",
       "[5 rows x 49 columns]"
      ]
     },
     "execution_count": 27,
     "metadata": {},
     "output_type": "execute_result"
    }
   ],
   "source": [
    "processed_df = apply_feature_engineering(df.copy())\n",
    "processed_df.head()"
   ]
  },
  {
   "cell_type": "code",
   "execution_count": 28,
   "metadata": {
    "ExecuteTime": {
     "end_time": "2023-04-08T18:12:54.028053Z",
     "start_time": "2023-04-08T18:12:53.895109Z"
    },
    "collapsed": false
   },
   "outputs": [],
   "source": [
    "def prepare_X_y(df):\n",
    "    \"\"\"\n",
    "    Feature engineering and create X and y\n",
    "    :param df: pandas dataframe\n",
    "    :return: (X, y) output feature matrix (dataframe), target (series)\n",
    "    \"\"\"\n",
    "\n",
    "    X = df.drop('y', axis=1, inplace=False).values\n",
    "\n",
    "    y = df['y']\n",
    "    y = np.array([0 if i==\"no\" else 1 for i in y ])\n",
    "    y = y.reshape((-1, 1))\n",
    "    return X, y\n",
    "\n",
    "X, y = prepare_X_y(processed_df)"
   ]
  },
  {
   "cell_type": "code",
   "execution_count": 29,
   "metadata": {
    "ExecuteTime": {
     "end_time": "2023-04-08T18:12:55.547793Z",
     "start_time": "2023-04-08T18:12:53.970236Z"
    },
    "id": "L8sqxUPd4MJq"
   },
   "outputs": [],
   "source": [
    "from sklearn.linear_model import LogisticRegression\n",
    "\n",
    "def build_model(X, y):\n",
    "    \"\"\"\n",
    "    Design your model and train it (including your best params)\n",
    "    :param X: feature matrix\n",
    "    :param y: target\n",
    "    :return: a model\n",
    "    \"\"\"\n",
    "\n",
    "\n",
    "    model = LogisticRegression()\n",
    "    # Todo: fit your model with X, y\n",
    "    model.fit(X, y)\n",
    "\n",
    "    return model\n"
   ]
  },
  {
   "cell_type": "code",
   "execution_count": 30,
   "metadata": {
    "ExecuteTime": {
     "end_time": "2023-04-08T18:12:55.631800Z",
     "start_time": "2023-04-08T18:12:55.525449Z"
    },
    "collapsed": false
   },
   "outputs": [],
   "source": [
    "from sklearn.model_selection import train_test_split\n",
    "\n",
    "X_train, X_test, y_train, y_test = train_test_split(X, y, test_size=0.3, random_state=101)     # Split data into train and test"
   ]
  },
  {
   "cell_type": "code",
   "execution_count": 31,
   "metadata": {
    "ExecuteTime": {
     "end_time": "2023-04-08T18:12:56.689606Z",
     "start_time": "2023-04-08T18:12:55.638692Z"
    },
    "colab": {
     "base_uri": "https://localhost:8080/"
    },
    "executionInfo": {
     "elapsed": 518,
     "status": "ok",
     "timestamp": 1657043985147,
     "user": {
      "displayName": "Sơn Huỳnh Thanh",
      "userId": "12358216226509522886"
     },
     "user_tz": -420
    },
    "id": "mIcFrmoUlWKR",
    "outputId": "fa1303f3-dead-4c9a-9f03-fd3ade73d17a"
   },
   "outputs": [
    {
     "name": "stderr",
     "output_type": "stream",
     "text": [
      "c:\\Users\\HP\\anaconda3\\lib\\site-packages\\sklearn\\utils\\validation.py:1141: DataConversionWarning: A column-vector y was passed when a 1d array was expected. Please change the shape of y to (n_samples, ), for example using ravel().\n",
      "  y = column_or_1d(y, warn=True)\n",
      "c:\\Users\\HP\\anaconda3\\lib\\site-packages\\sklearn\\linear_model\\_logistic.py:458: ConvergenceWarning: lbfgs failed to converge (status=1):\n",
      "STOP: TOTAL NO. of ITERATIONS REACHED LIMIT.\n",
      "\n",
      "Increase the number of iterations (max_iter) or scale the data as shown in:\n",
      "    https://scikit-learn.org/stable/modules/preprocessing.html\n",
      "Please also refer to the documentation for alternative solver options:\n",
      "    https://scikit-learn.org/stable/modules/linear_model.html#logistic-regression\n",
      "  n_iter_i = _check_optimize_result(\n"
     ]
    },
    {
     "data": {
      "text/html": [
       "<style>#sk-container-id-2 {color: black;background-color: white;}#sk-container-id-2 pre{padding: 0;}#sk-container-id-2 div.sk-toggleable {background-color: white;}#sk-container-id-2 label.sk-toggleable__label {cursor: pointer;display: block;width: 100%;margin-bottom: 0;padding: 0.3em;box-sizing: border-box;text-align: center;}#sk-container-id-2 label.sk-toggleable__label-arrow:before {content: \"▸\";float: left;margin-right: 0.25em;color: #696969;}#sk-container-id-2 label.sk-toggleable__label-arrow:hover:before {color: black;}#sk-container-id-2 div.sk-estimator:hover label.sk-toggleable__label-arrow:before {color: black;}#sk-container-id-2 div.sk-toggleable__content {max-height: 0;max-width: 0;overflow: hidden;text-align: left;background-color: #f0f8ff;}#sk-container-id-2 div.sk-toggleable__content pre {margin: 0.2em;color: black;border-radius: 0.25em;background-color: #f0f8ff;}#sk-container-id-2 input.sk-toggleable__control:checked~div.sk-toggleable__content {max-height: 200px;max-width: 100%;overflow: auto;}#sk-container-id-2 input.sk-toggleable__control:checked~label.sk-toggleable__label-arrow:before {content: \"▾\";}#sk-container-id-2 div.sk-estimator input.sk-toggleable__control:checked~label.sk-toggleable__label {background-color: #d4ebff;}#sk-container-id-2 div.sk-label input.sk-toggleable__control:checked~label.sk-toggleable__label {background-color: #d4ebff;}#sk-container-id-2 input.sk-hidden--visually {border: 0;clip: rect(1px 1px 1px 1px);clip: rect(1px, 1px, 1px, 1px);height: 1px;margin: -1px;overflow: hidden;padding: 0;position: absolute;width: 1px;}#sk-container-id-2 div.sk-estimator {font-family: monospace;background-color: #f0f8ff;border: 1px dotted black;border-radius: 0.25em;box-sizing: border-box;margin-bottom: 0.5em;}#sk-container-id-2 div.sk-estimator:hover {background-color: #d4ebff;}#sk-container-id-2 div.sk-parallel-item::after {content: \"\";width: 100%;border-bottom: 1px solid gray;flex-grow: 1;}#sk-container-id-2 div.sk-label:hover label.sk-toggleable__label {background-color: #d4ebff;}#sk-container-id-2 div.sk-serial::before {content: \"\";position: absolute;border-left: 1px solid gray;box-sizing: border-box;top: 0;bottom: 0;left: 50%;z-index: 0;}#sk-container-id-2 div.sk-serial {display: flex;flex-direction: column;align-items: center;background-color: white;padding-right: 0.2em;padding-left: 0.2em;position: relative;}#sk-container-id-2 div.sk-item {position: relative;z-index: 1;}#sk-container-id-2 div.sk-parallel {display: flex;align-items: stretch;justify-content: center;background-color: white;position: relative;}#sk-container-id-2 div.sk-item::before, #sk-container-id-2 div.sk-parallel-item::before {content: \"\";position: absolute;border-left: 1px solid gray;box-sizing: border-box;top: 0;bottom: 0;left: 50%;z-index: -1;}#sk-container-id-2 div.sk-parallel-item {display: flex;flex-direction: column;z-index: 1;position: relative;background-color: white;}#sk-container-id-2 div.sk-parallel-item:first-child::after {align-self: flex-end;width: 50%;}#sk-container-id-2 div.sk-parallel-item:last-child::after {align-self: flex-start;width: 50%;}#sk-container-id-2 div.sk-parallel-item:only-child::after {width: 0;}#sk-container-id-2 div.sk-dashed-wrapped {border: 1px dashed gray;margin: 0 0.4em 0.5em 0.4em;box-sizing: border-box;padding-bottom: 0.4em;background-color: white;}#sk-container-id-2 div.sk-label label {font-family: monospace;font-weight: bold;display: inline-block;line-height: 1.2em;}#sk-container-id-2 div.sk-label-container {text-align: center;}#sk-container-id-2 div.sk-container {/* jupyter's `normalize.less` sets `[hidden] { display: none; }` but bootstrap.min.css set `[hidden] { display: none !important; }` so we also need the `!important` here to be able to override the default hidden behavior on the sphinx rendered scikit-learn.org. See: https://github.com/scikit-learn/scikit-learn/issues/21755 */display: inline-block !important;position: relative;}#sk-container-id-2 div.sk-text-repr-fallback {display: none;}</style><div id=\"sk-container-id-2\" class=\"sk-top-container\"><div class=\"sk-text-repr-fallback\"><pre>LogisticRegression()</pre><b>In a Jupyter environment, please rerun this cell to show the HTML representation or trust the notebook. <br />On GitHub, the HTML representation is unable to render, please try loading this page with nbviewer.org.</b></div><div class=\"sk-container\" hidden><div class=\"sk-item\"><div class=\"sk-estimator sk-toggleable\"><input class=\"sk-toggleable__control sk-hidden--visually\" id=\"sk-estimator-id-2\" type=\"checkbox\" checked><label for=\"sk-estimator-id-2\" class=\"sk-toggleable__label sk-toggleable__label-arrow\">LogisticRegression</label><div class=\"sk-toggleable__content\"><pre>LogisticRegression()</pre></div></div></div></div></div>"
      ],
      "text/plain": [
       "LogisticRegression()"
      ]
     },
     "metadata": {},
     "output_type": "display_data"
    },
    {
     "data": {
      "text/plain": [
       "0.9040791599353797"
      ]
     },
     "execution_count": 31,
     "metadata": {},
     "output_type": "execute_result"
    }
   ],
   "source": [
    "log_model = build_model(X_train, y_train)\n",
    "display(log_model)\n",
    "\n",
    "# Get score\n",
    "log_model.score(X_test, y_test)"
   ]
  },
  {
   "cell_type": "markdown",
   "metadata": {
    "collapsed": false
   },
   "source": [
    "## Using a scaler"
   ]
  },
  {
   "cell_type": "code",
   "execution_count": 32,
   "metadata": {
    "collapsed": false
   },
   "outputs": [
    {
     "data": {
      "text/html": [
       "<div>\n",
       "<style scoped>\n",
       "    .dataframe tbody tr th:only-of-type {\n",
       "        vertical-align: middle;\n",
       "    }\n",
       "\n",
       "    .dataframe tbody tr th {\n",
       "        vertical-align: top;\n",
       "    }\n",
       "\n",
       "    .dataframe thead th {\n",
       "        text-align: right;\n",
       "    }\n",
       "</style>\n",
       "<table border=\"1\" class=\"dataframe\">\n",
       "  <thead>\n",
       "    <tr style=\"text-align: right;\">\n",
       "      <th></th>\n",
       "      <th>0</th>\n",
       "      <th>1</th>\n",
       "      <th>2</th>\n",
       "      <th>3</th>\n",
       "      <th>4</th>\n",
       "      <th>5</th>\n",
       "      <th>6</th>\n",
       "      <th>7</th>\n",
       "      <th>8</th>\n",
       "      <th>9</th>\n",
       "      <th>...</th>\n",
       "      <th>38</th>\n",
       "      <th>39</th>\n",
       "      <th>40</th>\n",
       "      <th>41</th>\n",
       "      <th>42</th>\n",
       "      <th>43</th>\n",
       "      <th>44</th>\n",
       "      <th>45</th>\n",
       "      <th>46</th>\n",
       "      <th>47</th>\n",
       "    </tr>\n",
       "  </thead>\n",
       "  <tbody>\n",
       "    <tr>\n",
       "      <th>0</th>\n",
       "      <td>0.134841</td>\n",
       "      <td>0.958491</td>\n",
       "      <td>0.168923</td>\n",
       "      <td>0.735593</td>\n",
       "      <td>0.325399</td>\n",
       "      <td>0.192122</td>\n",
       "      <td>-0.550104</td>\n",
       "      <td>-0.436967</td>\n",
       "      <td>-0.356254</td>\n",
       "      <td>-0.459503</td>\n",
       "      <td>...</td>\n",
       "      <td>-0.35741</td>\n",
       "      <td>-0.18157</td>\n",
       "      <td>-0.582914</td>\n",
       "      <td>-0.284783</td>\n",
       "      <td>4.768336</td>\n",
       "      <td>-0.201136</td>\n",
       "      <td>-0.324666</td>\n",
       "      <td>-0.215883</td>\n",
       "      <td>-0.441360</td>\n",
       "      <td>0.659217</td>\n",
       "    </tr>\n",
       "    <tr>\n",
       "      <th>1</th>\n",
       "      <td>3.374412</td>\n",
       "      <td>0.958491</td>\n",
       "      <td>1.006072</td>\n",
       "      <td>-0.787916</td>\n",
       "      <td>2.404948</td>\n",
       "      <td>-0.565094</td>\n",
       "      <td>0.330261</td>\n",
       "      <td>0.928228</td>\n",
       "      <td>-0.356254</td>\n",
       "      <td>-0.459503</td>\n",
       "      <td>...</td>\n",
       "      <td>-0.35741</td>\n",
       "      <td>-0.18157</td>\n",
       "      <td>-0.582914</td>\n",
       "      <td>-0.284783</td>\n",
       "      <td>-0.209717</td>\n",
       "      <td>4.971762</td>\n",
       "      <td>3.080090</td>\n",
       "      <td>-0.215883</td>\n",
       "      <td>-0.441360</td>\n",
       "      <td>-1.516952</td>\n",
       "    </tr>\n",
       "    <tr>\n",
       "      <th>2</th>\n",
       "      <td>1.083008</td>\n",
       "      <td>-0.377868</td>\n",
       "      <td>-0.177558</td>\n",
       "      <td>-1.256688</td>\n",
       "      <td>-0.703557</td>\n",
       "      <td>0.570730</td>\n",
       "      <td>-0.550104</td>\n",
       "      <td>-0.436967</td>\n",
       "      <td>-0.356254</td>\n",
       "      <td>-0.459503</td>\n",
       "      <td>...</td>\n",
       "      <td>-0.35741</td>\n",
       "      <td>-0.18157</td>\n",
       "      <td>-0.582914</td>\n",
       "      <td>-0.284783</td>\n",
       "      <td>-0.209717</td>\n",
       "      <td>-0.201136</td>\n",
       "      <td>-0.324666</td>\n",
       "      <td>-0.215883</td>\n",
       "      <td>-0.441360</td>\n",
       "      <td>0.659217</td>\n",
       "    </tr>\n",
       "    <tr>\n",
       "      <th>3</th>\n",
       "      <td>0.529911</td>\n",
       "      <td>-0.377868</td>\n",
       "      <td>-0.264256</td>\n",
       "      <td>0.266821</td>\n",
       "      <td>-0.177059</td>\n",
       "      <td>-0.565094</td>\n",
       "      <td>4.769952</td>\n",
       "      <td>0.473163</td>\n",
       "      <td>2.806983</td>\n",
       "      <td>-0.459503</td>\n",
       "      <td>...</td>\n",
       "      <td>-0.35741</td>\n",
       "      <td>-0.18157</td>\n",
       "      <td>-0.582914</td>\n",
       "      <td>-0.284783</td>\n",
       "      <td>-0.209717</td>\n",
       "      <td>-0.201136</td>\n",
       "      <td>-0.324666</td>\n",
       "      <td>-0.215883</td>\n",
       "      <td>2.265725</td>\n",
       "      <td>-1.516952</td>\n",
       "    </tr>\n",
       "    <tr>\n",
       "      <th>4</th>\n",
       "      <td>-0.260228</td>\n",
       "      <td>-1.714227</td>\n",
       "      <td>-0.466241</td>\n",
       "      <td>1.321558</td>\n",
       "      <td>-0.833379</td>\n",
       "      <td>0.570730</td>\n",
       "      <td>-0.550104</td>\n",
       "      <td>-0.436967</td>\n",
       "      <td>-0.356254</td>\n",
       "      <td>2.176265</td>\n",
       "      <td>...</td>\n",
       "      <td>-0.35741</td>\n",
       "      <td>-0.18157</td>\n",
       "      <td>1.715520</td>\n",
       "      <td>-0.284783</td>\n",
       "      <td>-0.209717</td>\n",
       "      <td>-0.201136</td>\n",
       "      <td>-0.324666</td>\n",
       "      <td>-0.215883</td>\n",
       "      <td>-0.441360</td>\n",
       "      <td>0.659217</td>\n",
       "    </tr>\n",
       "    <tr>\n",
       "      <th>...</th>\n",
       "      <td>...</td>\n",
       "      <td>...</td>\n",
       "      <td>...</td>\n",
       "      <td>...</td>\n",
       "      <td>...</td>\n",
       "      <td>...</td>\n",
       "      <td>...</td>\n",
       "      <td>...</td>\n",
       "      <td>...</td>\n",
       "      <td>...</td>\n",
       "      <td>...</td>\n",
       "      <td>...</td>\n",
       "      <td>...</td>\n",
       "      <td>...</td>\n",
       "      <td>...</td>\n",
       "      <td>...</td>\n",
       "      <td>...</td>\n",
       "      <td>...</td>\n",
       "      <td>...</td>\n",
       "      <td>...</td>\n",
       "      <td>...</td>\n",
       "    </tr>\n",
       "    <tr>\n",
       "      <th>46211</th>\n",
       "      <td>-0.892340</td>\n",
       "      <td>0.958491</td>\n",
       "      <td>-0.260217</td>\n",
       "      <td>1.438751</td>\n",
       "      <td>0.310974</td>\n",
       "      <td>-0.186486</td>\n",
       "      <td>1.172761</td>\n",
       "      <td>3.203553</td>\n",
       "      <td>-0.356254</td>\n",
       "      <td>-0.459503</td>\n",
       "      <td>...</td>\n",
       "      <td>-0.35741</td>\n",
       "      <td>-0.18157</td>\n",
       "      <td>-0.582914</td>\n",
       "      <td>-0.284783</td>\n",
       "      <td>-0.209717</td>\n",
       "      <td>-0.201136</td>\n",
       "      <td>-0.324666</td>\n",
       "      <td>-0.215883</td>\n",
       "      <td>2.265725</td>\n",
       "      <td>-1.516952</td>\n",
       "    </tr>\n",
       "    <tr>\n",
       "      <th>46212</th>\n",
       "      <td>-0.892340</td>\n",
       "      <td>-0.377868</td>\n",
       "      <td>-0.466862</td>\n",
       "      <td>1.673137</td>\n",
       "      <td>-0.876653</td>\n",
       "      <td>-0.565094</td>\n",
       "      <td>-0.550104</td>\n",
       "      <td>-0.436967</td>\n",
       "      <td>-0.356254</td>\n",
       "      <td>-0.459503</td>\n",
       "      <td>...</td>\n",
       "      <td>-0.35741</td>\n",
       "      <td>-0.18157</td>\n",
       "      <td>-0.582914</td>\n",
       "      <td>-0.284783</td>\n",
       "      <td>-0.209717</td>\n",
       "      <td>-0.201136</td>\n",
       "      <td>-0.324666</td>\n",
       "      <td>-0.215883</td>\n",
       "      <td>-0.441360</td>\n",
       "      <td>0.659217</td>\n",
       "    </tr>\n",
       "    <tr>\n",
       "      <th>46213</th>\n",
       "      <td>-1.129381</td>\n",
       "      <td>-0.377868</td>\n",
       "      <td>-0.469038</td>\n",
       "      <td>1.555944</td>\n",
       "      <td>-0.725194</td>\n",
       "      <td>0.192122</td>\n",
       "      <td>-0.550104</td>\n",
       "      <td>-0.436967</td>\n",
       "      <td>-0.356254</td>\n",
       "      <td>-0.459503</td>\n",
       "      <td>...</td>\n",
       "      <td>-0.35741</td>\n",
       "      <td>-0.18157</td>\n",
       "      <td>-0.582914</td>\n",
       "      <td>-0.284783</td>\n",
       "      <td>-0.209717</td>\n",
       "      <td>-0.201136</td>\n",
       "      <td>-0.324666</td>\n",
       "      <td>-0.215883</td>\n",
       "      <td>-0.441360</td>\n",
       "      <td>0.659217</td>\n",
       "    </tr>\n",
       "    <tr>\n",
       "      <th>46214</th>\n",
       "      <td>-1.366423</td>\n",
       "      <td>0.958491</td>\n",
       "      <td>-0.401606</td>\n",
       "      <td>-0.787916</td>\n",
       "      <td>-0.746831</td>\n",
       "      <td>-0.565094</td>\n",
       "      <td>0.330261</td>\n",
       "      <td>0.018098</td>\n",
       "      <td>-0.356254</td>\n",
       "      <td>-0.459503</td>\n",
       "      <td>...</td>\n",
       "      <td>-0.35741</td>\n",
       "      <td>-0.18157</td>\n",
       "      <td>-0.582914</td>\n",
       "      <td>-0.284783</td>\n",
       "      <td>-0.209717</td>\n",
       "      <td>-0.201136</td>\n",
       "      <td>-0.324666</td>\n",
       "      <td>-0.215883</td>\n",
       "      <td>2.265725</td>\n",
       "      <td>-1.516952</td>\n",
       "    </tr>\n",
       "    <tr>\n",
       "      <th>46215</th>\n",
       "      <td>1.162022</td>\n",
       "      <td>-0.377868</td>\n",
       "      <td>-0.400984</td>\n",
       "      <td>0.149628</td>\n",
       "      <td>-0.701153</td>\n",
       "      <td>0.192122</td>\n",
       "      <td>0.699447</td>\n",
       "      <td>1.383293</td>\n",
       "      <td>-0.356254</td>\n",
       "      <td>-0.459503</td>\n",
       "      <td>...</td>\n",
       "      <td>-0.35741</td>\n",
       "      <td>-0.18157</td>\n",
       "      <td>-0.582914</td>\n",
       "      <td>3.511447</td>\n",
       "      <td>-0.209717</td>\n",
       "      <td>-0.201136</td>\n",
       "      <td>3.080090</td>\n",
       "      <td>-0.215883</td>\n",
       "      <td>-0.441360</td>\n",
       "      <td>-1.516952</td>\n",
       "    </tr>\n",
       "  </tbody>\n",
       "</table>\n",
       "<p>46216 rows × 48 columns</p>\n",
       "</div>"
      ],
      "text/plain": [
       "             0         1         2         3         4         5         6   \\\n",
       "0      0.134841  0.958491  0.168923  0.735593  0.325399  0.192122 -0.550104   \n",
       "1      3.374412  0.958491  1.006072 -0.787916  2.404948 -0.565094  0.330261   \n",
       "2      1.083008 -0.377868 -0.177558 -1.256688 -0.703557  0.570730 -0.550104   \n",
       "3      0.529911 -0.377868 -0.264256  0.266821 -0.177059 -0.565094  4.769952   \n",
       "4     -0.260228 -1.714227 -0.466241  1.321558 -0.833379  0.570730 -0.550104   \n",
       "...         ...       ...       ...       ...       ...       ...       ...   \n",
       "46211 -0.892340  0.958491 -0.260217  1.438751  0.310974 -0.186486  1.172761   \n",
       "46212 -0.892340 -0.377868 -0.466862  1.673137 -0.876653 -0.565094 -0.550104   \n",
       "46213 -1.129381 -0.377868 -0.469038  1.555944 -0.725194  0.192122 -0.550104   \n",
       "46214 -1.366423  0.958491 -0.401606 -0.787916 -0.746831 -0.565094  0.330261   \n",
       "46215  1.162022 -0.377868 -0.400984  0.149628 -0.701153  0.192122  0.699447   \n",
       "\n",
       "             7         8         9   ...       38       39        40  \\\n",
       "0     -0.436967 -0.356254 -0.459503  ... -0.35741 -0.18157 -0.582914   \n",
       "1      0.928228 -0.356254 -0.459503  ... -0.35741 -0.18157 -0.582914   \n",
       "2     -0.436967 -0.356254 -0.459503  ... -0.35741 -0.18157 -0.582914   \n",
       "3      0.473163  2.806983 -0.459503  ... -0.35741 -0.18157 -0.582914   \n",
       "4     -0.436967 -0.356254  2.176265  ... -0.35741 -0.18157  1.715520   \n",
       "...         ...       ...       ...  ...      ...      ...       ...   \n",
       "46211  3.203553 -0.356254 -0.459503  ... -0.35741 -0.18157 -0.582914   \n",
       "46212 -0.436967 -0.356254 -0.459503  ... -0.35741 -0.18157 -0.582914   \n",
       "46213 -0.436967 -0.356254 -0.459503  ... -0.35741 -0.18157 -0.582914   \n",
       "46214  0.018098 -0.356254 -0.459503  ... -0.35741 -0.18157 -0.582914   \n",
       "46215  1.383293 -0.356254 -0.459503  ... -0.35741 -0.18157 -0.582914   \n",
       "\n",
       "             41        42        43        44        45        46        47  \n",
       "0     -0.284783  4.768336 -0.201136 -0.324666 -0.215883 -0.441360  0.659217  \n",
       "1     -0.284783 -0.209717  4.971762  3.080090 -0.215883 -0.441360 -1.516952  \n",
       "2     -0.284783 -0.209717 -0.201136 -0.324666 -0.215883 -0.441360  0.659217  \n",
       "3     -0.284783 -0.209717 -0.201136 -0.324666 -0.215883  2.265725 -1.516952  \n",
       "4     -0.284783 -0.209717 -0.201136 -0.324666 -0.215883 -0.441360  0.659217  \n",
       "...         ...       ...       ...       ...       ...       ...       ...  \n",
       "46211 -0.284783 -0.209717 -0.201136 -0.324666 -0.215883  2.265725 -1.516952  \n",
       "46212 -0.284783 -0.209717 -0.201136 -0.324666 -0.215883 -0.441360  0.659217  \n",
       "46213 -0.284783 -0.209717 -0.201136 -0.324666 -0.215883 -0.441360  0.659217  \n",
       "46214 -0.284783 -0.209717 -0.201136 -0.324666 -0.215883  2.265725 -1.516952  \n",
       "46215  3.511447 -0.209717 -0.201136  3.080090 -0.215883 -0.441360 -1.516952  \n",
       "\n",
       "[46216 rows x 48 columns]"
      ]
     },
     "metadata": {},
     "output_type": "display_data"
    }
   ],
   "source": [
    "from sklearn.preprocessing import StandardScaler #Gọi thư viện để scale data về phân phối chuẩn\n",
    "\n",
    "scaler = StandardScaler()\n",
    "X_train_scaled = scaler.fit_transform(X_train) #fit_transform có tác dụng vừa fit data, vừa transform data\n",
    "X_test_scaled = scaler.transform(X_test) #transform data từ hàm scaler đã train từ X_train\n",
    "\n",
    "# Print dataframe of scaled data\n",
    "display(pd.DataFrame(X_train_scaled))"
   ]
  },
  {
   "cell_type": "code",
   "execution_count": 33,
   "metadata": {
    "ExecuteTime": {
     "end_time": "2023-04-07T10:50:54.626435Z",
     "start_time": "2023-04-07T10:50:54.535464Z"
    },
    "collapsed": false
   },
   "outputs": [
    {
     "name": "stderr",
     "output_type": "stream",
     "text": [
      "c:\\Users\\HP\\anaconda3\\lib\\site-packages\\sklearn\\utils\\validation.py:1141: DataConversionWarning: A column-vector y was passed when a 1d array was expected. Please change the shape of y to (n_samples, ), for example using ravel().\n",
      "  y = column_or_1d(y, warn=True)\n"
     ]
    },
    {
     "data": {
      "text/html": [
       "<style>#sk-container-id-3 {color: black;background-color: white;}#sk-container-id-3 pre{padding: 0;}#sk-container-id-3 div.sk-toggleable {background-color: white;}#sk-container-id-3 label.sk-toggleable__label {cursor: pointer;display: block;width: 100%;margin-bottom: 0;padding: 0.3em;box-sizing: border-box;text-align: center;}#sk-container-id-3 label.sk-toggleable__label-arrow:before {content: \"▸\";float: left;margin-right: 0.25em;color: #696969;}#sk-container-id-3 label.sk-toggleable__label-arrow:hover:before {color: black;}#sk-container-id-3 div.sk-estimator:hover label.sk-toggleable__label-arrow:before {color: black;}#sk-container-id-3 div.sk-toggleable__content {max-height: 0;max-width: 0;overflow: hidden;text-align: left;background-color: #f0f8ff;}#sk-container-id-3 div.sk-toggleable__content pre {margin: 0.2em;color: black;border-radius: 0.25em;background-color: #f0f8ff;}#sk-container-id-3 input.sk-toggleable__control:checked~div.sk-toggleable__content {max-height: 200px;max-width: 100%;overflow: auto;}#sk-container-id-3 input.sk-toggleable__control:checked~label.sk-toggleable__label-arrow:before {content: \"▾\";}#sk-container-id-3 div.sk-estimator input.sk-toggleable__control:checked~label.sk-toggleable__label {background-color: #d4ebff;}#sk-container-id-3 div.sk-label input.sk-toggleable__control:checked~label.sk-toggleable__label {background-color: #d4ebff;}#sk-container-id-3 input.sk-hidden--visually {border: 0;clip: rect(1px 1px 1px 1px);clip: rect(1px, 1px, 1px, 1px);height: 1px;margin: -1px;overflow: hidden;padding: 0;position: absolute;width: 1px;}#sk-container-id-3 div.sk-estimator {font-family: monospace;background-color: #f0f8ff;border: 1px dotted black;border-radius: 0.25em;box-sizing: border-box;margin-bottom: 0.5em;}#sk-container-id-3 div.sk-estimator:hover {background-color: #d4ebff;}#sk-container-id-3 div.sk-parallel-item::after {content: \"\";width: 100%;border-bottom: 1px solid gray;flex-grow: 1;}#sk-container-id-3 div.sk-label:hover label.sk-toggleable__label {background-color: #d4ebff;}#sk-container-id-3 div.sk-serial::before {content: \"\";position: absolute;border-left: 1px solid gray;box-sizing: border-box;top: 0;bottom: 0;left: 50%;z-index: 0;}#sk-container-id-3 div.sk-serial {display: flex;flex-direction: column;align-items: center;background-color: white;padding-right: 0.2em;padding-left: 0.2em;position: relative;}#sk-container-id-3 div.sk-item {position: relative;z-index: 1;}#sk-container-id-3 div.sk-parallel {display: flex;align-items: stretch;justify-content: center;background-color: white;position: relative;}#sk-container-id-3 div.sk-item::before, #sk-container-id-3 div.sk-parallel-item::before {content: \"\";position: absolute;border-left: 1px solid gray;box-sizing: border-box;top: 0;bottom: 0;left: 50%;z-index: -1;}#sk-container-id-3 div.sk-parallel-item {display: flex;flex-direction: column;z-index: 1;position: relative;background-color: white;}#sk-container-id-3 div.sk-parallel-item:first-child::after {align-self: flex-end;width: 50%;}#sk-container-id-3 div.sk-parallel-item:last-child::after {align-self: flex-start;width: 50%;}#sk-container-id-3 div.sk-parallel-item:only-child::after {width: 0;}#sk-container-id-3 div.sk-dashed-wrapped {border: 1px dashed gray;margin: 0 0.4em 0.5em 0.4em;box-sizing: border-box;padding-bottom: 0.4em;background-color: white;}#sk-container-id-3 div.sk-label label {font-family: monospace;font-weight: bold;display: inline-block;line-height: 1.2em;}#sk-container-id-3 div.sk-label-container {text-align: center;}#sk-container-id-3 div.sk-container {/* jupyter's `normalize.less` sets `[hidden] { display: none; }` but bootstrap.min.css set `[hidden] { display: none !important; }` so we also need the `!important` here to be able to override the default hidden behavior on the sphinx rendered scikit-learn.org. See: https://github.com/scikit-learn/scikit-learn/issues/21755 */display: inline-block !important;position: relative;}#sk-container-id-3 div.sk-text-repr-fallback {display: none;}</style><div id=\"sk-container-id-3\" class=\"sk-top-container\"><div class=\"sk-text-repr-fallback\"><pre>LogisticRegression()</pre><b>In a Jupyter environment, please rerun this cell to show the HTML representation or trust the notebook. <br />On GitHub, the HTML representation is unable to render, please try loading this page with nbviewer.org.</b></div><div class=\"sk-container\" hidden><div class=\"sk-item\"><div class=\"sk-estimator sk-toggleable\"><input class=\"sk-toggleable__control sk-hidden--visually\" id=\"sk-estimator-id-3\" type=\"checkbox\" checked><label for=\"sk-estimator-id-3\" class=\"sk-toggleable__label sk-toggleable__label-arrow\">LogisticRegression</label><div class=\"sk-toggleable__content\"><pre>LogisticRegression()</pre></div></div></div></div></div>"
      ],
      "text/plain": [
       "LogisticRegression()"
      ]
     },
     "metadata": {},
     "output_type": "display_data"
    },
    {
     "data": {
      "text/plain": [
       "0.9329058966074314"
      ]
     },
     "execution_count": 33,
     "metadata": {},
     "output_type": "execute_result"
    }
   ],
   "source": [
    "log_model = build_model(X_train_scaled, y_train)\n",
    "display(log_model)\n",
    "\n",
    "# Get score\n",
    "log_model.score(X_test_scaled, y_test)"
   ]
  },
  {
   "cell_type": "code",
   "execution_count": 34,
   "metadata": {
    "ExecuteTime": {
     "end_time": "2023-04-07T10:50:55.441487Z",
     "start_time": "2023-04-07T10:50:55.421474Z"
    },
    "colab": {
     "base_uri": "https://localhost:8080/",
     "height": 424
    },
    "executionInfo": {
     "elapsed": 6,
     "status": "ok",
     "timestamp": 1657043987505,
     "user": {
      "displayName": "Sơn Huỳnh Thanh",
      "userId": "12358216226509522886"
     },
     "user_tz": -420
    },
    "id": "VL2bPUePqzOs",
    "outputId": "c2e5e567-2e0e-4a3e-ef78-69148ca6bda1"
   },
   "outputs": [
    {
     "data": {
      "text/html": [
       "<div>\n",
       "<style scoped>\n",
       "    .dataframe tbody tr th:only-of-type {\n",
       "        vertical-align: middle;\n",
       "    }\n",
       "\n",
       "    .dataframe tbody tr th {\n",
       "        vertical-align: top;\n",
       "    }\n",
       "\n",
       "    .dataframe thead th {\n",
       "        text-align: right;\n",
       "    }\n",
       "</style>\n",
       "<table border=\"1\" class=\"dataframe\">\n",
       "  <thead>\n",
       "    <tr style=\"text-align: right;\">\n",
       "      <th></th>\n",
       "      <th>target</th>\n",
       "    </tr>\n",
       "  </thead>\n",
       "  <tbody>\n",
       "    <tr>\n",
       "      <th>0</th>\n",
       "      <td>1</td>\n",
       "    </tr>\n",
       "    <tr>\n",
       "      <th>1</th>\n",
       "      <td>0</td>\n",
       "    </tr>\n",
       "    <tr>\n",
       "      <th>2</th>\n",
       "      <td>0</td>\n",
       "    </tr>\n",
       "    <tr>\n",
       "      <th>3</th>\n",
       "      <td>0</td>\n",
       "    </tr>\n",
       "    <tr>\n",
       "      <th>4</th>\n",
       "      <td>0</td>\n",
       "    </tr>\n",
       "    <tr>\n",
       "      <th>...</th>\n",
       "      <td>...</td>\n",
       "    </tr>\n",
       "    <tr>\n",
       "      <th>19803</th>\n",
       "      <td>0</td>\n",
       "    </tr>\n",
       "    <tr>\n",
       "      <th>19804</th>\n",
       "      <td>0</td>\n",
       "    </tr>\n",
       "    <tr>\n",
       "      <th>19805</th>\n",
       "      <td>0</td>\n",
       "    </tr>\n",
       "    <tr>\n",
       "      <th>19806</th>\n",
       "      <td>0</td>\n",
       "    </tr>\n",
       "    <tr>\n",
       "      <th>19807</th>\n",
       "      <td>0</td>\n",
       "    </tr>\n",
       "  </tbody>\n",
       "</table>\n",
       "<p>19808 rows × 1 columns</p>\n",
       "</div>"
      ],
      "text/plain": [
       "       target\n",
       "0           1\n",
       "1           0\n",
       "2           0\n",
       "3           0\n",
       "4           0\n",
       "...       ...\n",
       "19803       0\n",
       "19804       0\n",
       "19805       0\n",
       "19806       0\n",
       "19807       0\n",
       "\n",
       "[19808 rows x 1 columns]"
      ]
     },
     "execution_count": 34,
     "metadata": {},
     "output_type": "execute_result"
    }
   ],
   "source": [
    "# Thiết lập bảng kết quả dự đoán \n",
    "y_pred = log_model.predict(X_test_scaled)\n",
    "y_pred = pd.DataFrame({'target': y_pred})\n",
    "y_pred"
   ]
  },
  {
   "cell_type": "code",
   "execution_count": 35,
   "metadata": {
    "ExecuteTime": {
     "end_time": "2023-04-07T10:57:27.986898Z",
     "start_time": "2023-04-07T10:57:27.924392Z"
    },
    "colab": {
     "base_uri": "https://localhost:8080/"
    },
    "executionInfo": {
     "elapsed": 3,
     "status": "ok",
     "timestamp": 1657043988398,
     "user": {
      "displayName": "Sơn Huỳnh Thanh",
      "userId": "12358216226509522886"
     },
     "user_tz": -420
    },
    "id": "p3kbof4dq9p_",
    "outputId": "076f0fbd-1a1a-4ef7-916c-e44a0c411d86"
   },
   "outputs": [
    {
     "name": "stdout",
     "output_type": "stream",
     "text": [
      "Precision:  0.9184705119896306\n",
      "Recall:  0.9100950423837657\n",
      "F1:  0.9142635958970389\n",
      "Confusion matrix: \n",
      " [[11393   629]\n",
      " [  700  7086]]\n",
      "Classification report: \n",
      "               precision    recall  f1-score   support\n",
      "\n",
      "           0       0.94      0.95      0.94     12022\n",
      "           1       0.92      0.91      0.91      7786\n",
      "\n",
      "    accuracy                           0.93     19808\n",
      "   macro avg       0.93      0.93      0.93     19808\n",
      "weighted avg       0.93      0.93      0.93     19808\n",
      "\n"
     ]
    }
   ],
   "source": [
    "#9 Sử dụng một số metrics cho imbalanced data\n",
    "from sklearn.metrics import accuracy_score, precision_score, recall_score, f1_score, confusion_matrix, classification_report\n",
    "\n",
    "print(\"Precision: \", precision_score(y_test , y_pred))\n",
    "print(\"Recall: \", recall_score(y_test , y_pred))\n",
    "print(\"F1: \", f1_score(y_test , y_pred))\n",
    "print(\"Confusion matrix: \\n\", confusion_matrix(y_test , y_pred))\n",
    "print(\"Classification report: \\n\", classification_report(y_test , y_pred))"
   ]
  },
  {
   "cell_type": "code",
   "execution_count": 36,
   "metadata": {
    "ExecuteTime": {
     "end_time": "2023-04-07T10:51:24.114747Z",
     "start_time": "2023-04-07T10:51:24.080158Z"
    },
    "collapsed": false
   },
   "outputs": [],
   "source": [
    "def calculate_performance(y_true, y_pred):\n",
    "    \"\"\"\n",
    "\n",
    "    :param y_true: ground truth values\n",
    "    :param y_pred: predictions\n",
    "    :return:\n",
    "    \"\"\"\n",
    "\n",
    "    print(\"Accuracy: \", accuracy_score(y_test, y_pred))\n",
    "    print(\"Precision: \", precision_score(y_test , y_pred))\n",
    "    print(\"Recall: \", recall_score(y_test , y_pred ))\n",
    "    print(\"F1: \", f1_score(y_test , y_pred))\n",
    "    print(\"Confusion matrix: \\n\", confusion_matrix(y_test , y_pred ))\n",
    "    print(\"classification_report: \", classification_report(y_true, y_pred))\n",
    "    return f1_score(y_test , y_pred )"
   ]
  },
  {
   "cell_type": "code",
   "execution_count": null,
   "metadata": {
    "collapsed": false
   },
   "outputs": [],
   "source": []
  }
 ],
 "metadata": {
  "colab": {
   "collapsed_sections": [
    "_Z3p19sOSGxo"
   ],
   "name": "2_LogisticReg.ipynb",
   "provenance": []
  },
  "kernelspec": {
   "display_name": "Python 3 (ipykernel)",
   "language": "python",
   "name": "python3"
  },
  "language_info": {
   "codemirror_mode": {
    "name": "ipython",
    "version": 3
   },
   "file_extension": ".py",
   "mimetype": "text/x-python",
   "name": "python",
   "nbconvert_exporter": "python",
   "pygments_lexer": "ipython3",
   "version": "3.8.8"
  }
 },
 "nbformat": 4,
 "nbformat_minor": 1
}
